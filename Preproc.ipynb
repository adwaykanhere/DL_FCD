{
 "cells": [
  {
   "cell_type": "markdown",
   "metadata": {},
   "source": [
    "# Preprocessing Pipeline\n",
    "\n"
   ]
  },
  {
   "cell_type": "code",
   "execution_count": 1,
   "metadata": {},
   "outputs": [],
   "source": [
    "import os\n",
    "from os.path import join as opj\n",
    "from nipype.interfaces.freesurfer import ReconAll, Surface2VolTransform, MRIsCalc, ApplyVolTransform\n",
    "from nipype.interfaces.fsl import BET ,FAST\n",
    "from nipype.pipeline.engine import Workflow, Node, MapNode, JoinNode\n",
    "from nipype.interfaces.utility import IdentityInterface\n",
    "from nipype.workflows.smri.freesurfer.utils import getdefaultconfig\n",
    "import nipype.interfaces.io as nio \n",
    "from nipype import DataGrabber, SelectFiles, DataSink\n",
    "\n",
    "from nipype.workflows.smri.freesurfer import create_reconall_workflow"
   ]
  },
  {
   "cell_type": "markdown",
   "metadata": {
    "collapsed": true
   },
   "source": [
    "## Defining Directories"
   ]
  },
  {
   "cell_type": "code",
   "execution_count": 25,
   "metadata": {},
   "outputs": [],
   "source": [
    "subj_dir = '/home/adway/Desktop/Symbiosis/FCD_rawdata/Symbiosis/'\n",
    "fs_folder = '/home/adway/freesurfer/'\n",
    "os.chdir('/home/adway/Desktop')\n",
    "datasink_dir = 'datasink'\n",
    "exp_dir  = os.path.abspath('nipypeexpdir')\n",
    "out_dir = os.path.abspath('/home/adway/Desktop/Symbiosis/nipypeout')\n",
    "    \n",
    "# List of Subjects that we want to run the workflow on, append to this list\n",
    "\n",
    "subjlist = ['s1001','s1002']\n",
    "            #,'s1003','s1004','s1006','s1007','s1008','s1009','s1010','s1011','s1014','s1015',\n",
    "            #'s1017','s1018','s1019','s1020','s1021','s1022','s1023','s1024','s1025','s1026','s1027','s1028','s1029','s1030']\n"
   ]
  },
  {
   "cell_type": "code",
   "execution_count": 3,
   "metadata": {},
   "outputs": [],
   "source": [
    "import nipype.interfaces.freesurfer as fs\n",
    "fs.FSCommand.set_default_subjects_dir('/home/adway/freesurfer')\n",
    "from nipype.interfaces.matlab import MatlabCommand\n",
    "MatlabCommand.set_default_matlab_cmd(\"matlab -nodesktop -nosplash\")\n",
    "MatlabCommand.set_default_paths('/usr/local/MATLAB/R2018b/bin/matlab')\n",
    "\n"
   ]
  },
  {
   "cell_type": "markdown",
   "metadata": {},
   "source": [
    "## Create main workflow"
   ]
  },
  {
   "cell_type": "code",
   "execution_count": 4,
   "metadata": {},
   "outputs": [],
   "source": [
    "infosource = Node(IdentityInterface(fields=['subject_id']),\n",
    "                  name=\"infosource\")\n",
    "infosource.iterables = [('subject_id', subjlist)]"
   ]
  },
  {
   "cell_type": "code",
   "execution_count": 27,
   "metadata": {},
   "outputs": [],
   "source": [
    "# BET - Skullstipping\n",
    "\n",
    "#bet = MapNode(BET(frac = 0.5, robust = True, output_type='NIFTI_GZ'),iterfield = ['in_file'],name = \"Bet\")\n",
    "\n",
    "# Recon-all (includes skull stripping)\n",
    "\n",
    "reconall = MapNode(ReconAll(directive = 'all',subjects_dir = fs_folder), iterfield = ['subject_id', 'T1_files'], name= \"reconall\")\n",
    "\n",
    "\n",
    "# Local Gyrification Index Calculation\n",
    "\n",
    "localgi = MapNode(ReconAll(directive = 'localGI', subjects_dir = fs_folder),\n",
    "                   iterfield = ['subject_id'], name = \"LocalGI\")\n",
    "#Interhemispheric Asymmetry\n",
    "\n",
    "interasymm = MapNode(Surface2VolTransform(subjects_dir = fs_folder, surf_name = 'white'), \n",
    "                     iterfield = ['source_file', 'hemi'], name = \"Surf2voltrans\")\n",
    "\n",
    "#Intermediate Calculations\n",
    "intermcalc1  = MapNode(MRIsCalc(action = 'sub', out_file = 'lh.nii.gz'), \n",
    "                   name = \"Mriscalc_1\", iterfield = ['in_file1','in_file2'])\n",
    "\n",
    "intermcalc2  = MapNode(MRIsCalc(action = 'sub', out_file = 'rh.nii.gz'), \n",
    "                   name = \"Mriscalc_2\", iterfield = ['in_file1','in_file2'])\n",
    "\n",
    "intermcalc3  = Node(MRIsCalc(action = 'add', out_file = 'interasymm.nii.gz'), \n",
    "                   name = \"Mriscalc_3\")\n",
    "\n",
    "convert2vol = MapNode(ApplyVolTransform(fs_target = True),iterfield = ['source_file','subject'], name = 'Vol2Voltrans')"
   ]
  },
  {
   "cell_type": "code",
   "execution_count": 28,
   "metadata": {},
   "outputs": [],
   "source": [
    "T1_file = opj('{subject_id}','{subject_id}_t1_mprage_*.nii.gz')\n",
    "T2_file = opj('{subject_id}','{subject_id}_t2.nii.gz')\n",
    "\n",
    "\n",
    "templates = {'T1' : T1_file ,\n",
    "             'T2' : T2_file}\n",
    "\n",
    "fileselect = MapNode(SelectFiles(templates), iterfield = ['subject_id'],name='fileselect')\n",
    "\n",
    "fileselect.inputs.base_directory = '/home/adway/Desktop/Symbiosis/FCD_rawdata/Symbiosis/'\n",
    "fileselect.inputs.subject_id = subjlist\n",
    "\n",
    "# Datasink\n",
    "\n",
    "datasink = Node(DataSink(base_directory = exp_dir), name= 'Datasink')\n",
    "\n"
   ]
  },
  {
   "cell_type": "code",
   "execution_count": 29,
   "metadata": {},
   "outputs": [],
   "source": [
    "reconwf = Workflow(name = \"reconallwf\")\n",
    "reconwf.base_dir = os.path.join(exp_dir , 'reconallwfdir')\n",
    "reconwf.connect([(infosource ,fileselect , [('subject_id', 'subject_id')]),\n",
    "                 (fileselect, reconall , [('T1', 'T1_files')]),\n",
    "                 (infosource, reconall , [('subject_id', 'subject_id')]),\n",
    "                 (reconall, localgi, [('subject_id', 'subject_id')])\n",
    "                ])\n",
    "                 "
   ]
  },
  {
   "cell_type": "code",
   "execution_count": 30,
   "metadata": {
    "scrolled": false
   },
   "outputs": [
    {
     "name": "stdout",
     "output_type": "stream",
     "text": [
      "190731-14:41:53,561 nipype.workflow INFO:\n",
      "\t Workflow reconallwf settings: ['check', 'execution', 'logging', 'monitoring']\n",
      "190731-14:41:53,594 nipype.workflow INFO:\n",
      "\t Running in parallel.\n",
      "190731-14:41:53,598 nipype.workflow INFO:\n",
      "\t [MultiProc] Running 0 tasks, and 2 jobs ready. Free memory (GB): 13.98/13.98, Free processors: 4/4.\n",
      "190731-14:41:53,664 nipype.workflow INFO:\n",
      "\t [Node] Setting-up \"reconallwf.fileselect\" in \"/home/adway/Desktop/nipypeexpdir/reconallwfdir/reconallwf/_subject_id_s1002/fileselect\".\n",
      "190731-14:41:53,665 nipype.workflow INFO:\n",
      "\t [Node] Setting-up \"reconallwf.fileselect\" in \"/home/adway/Desktop/nipypeexpdir/reconallwfdir/reconallwf/_subject_id_s1001/fileselect\".\n",
      "190731-14:41:53,671 nipype.workflow INFO:\n",
      "\t [Node] Setting-up \"_fileselect0\" in \"/home/adway/Desktop/nipypeexpdir/reconallwfdir/reconallwf/_subject_id_s1002/fileselect/mapflow/_fileselect0\".\n",
      "190731-14:41:53,672 nipype.workflow INFO:\n",
      "\t [Node] Setting-up \"_fileselect0\" in \"/home/adway/Desktop/nipypeexpdir/reconallwfdir/reconallwf/_subject_id_s1001/fileselect/mapflow/_fileselect0\".\n",
      "190731-14:41:53,685 nipype.workflow INFO:\n",
      "\t [Node] Running \"_fileselect0\" (\"nipype.interfaces.io.SelectFiles\")\n",
      "190731-14:41:53,693 nipype.workflow INFO:\n",
      "\t [Node] Finished \"_fileselect0\".\n",
      "190731-14:41:53,695 nipype.workflow INFO:\n",
      "\t [Node] Running \"_fileselect0\" (\"nipype.interfaces.io.SelectFiles\")\n",
      "190731-14:41:53,698 nipype.workflow INFO:\n",
      "\t [Node] Finished \"reconallwf.fileselect\".\n",
      "190731-14:41:53,706 nipype.workflow INFO:\n",
      "\t [Node] Finished \"_fileselect0\".\n",
      "190731-14:41:53,710 nipype.workflow INFO:\n",
      "\t [Node] Finished \"reconallwf.fileselect\".\n",
      "190731-14:41:55,602 nipype.workflow INFO:\n",
      "\t [Job 0] Completed (reconallwf.fileselect).\n",
      "190731-14:41:55,608 nipype.workflow INFO:\n",
      "\t [Job 3] Completed (reconallwf.fileselect).\n",
      "190731-14:41:55,613 nipype.workflow INFO:\n",
      "\t [MultiProc] Running 0 tasks, and 2 jobs ready. Free memory (GB): 13.98/13.98, Free processors: 4/4.\n",
      "190731-14:41:55,669 nipype.workflow INFO:\n",
      "\t [Node] Outdated cache found for \"reconallwf.reconall\".\n",
      "190731-14:41:55,676 nipype.workflow INFO:\n",
      "\t [Node] Outdated cache found for \"reconallwf.reconall\".\n",
      "190731-14:41:55,675 nipype.workflow INFO:\n",
      "\t [Node] Setting-up \"reconallwf.reconall\" in \"/home/adway/Desktop/nipypeexpdir/reconallwfdir/reconallwf/_subject_id_s1002/reconall\".\n",
      "190731-14:41:55,680 nipype.workflow INFO:\n",
      "\t [Node] Outdated cache found for \"reconallwf.reconall\".\n",
      "190731-14:41:55,680 nipype.workflow INFO:\n",
      "\t [Node] Setting-up \"reconallwf.reconall\" in \"/home/adway/Desktop/nipypeexpdir/reconallwfdir/reconallwf/_subject_id_s1001/reconall\".\n",
      "190731-14:41:55,685 nipype.workflow INFO:\n",
      "\t [Node] Outdated cache found for \"reconallwf.reconall\".\n",
      "190731-14:41:55,688 nipype.workflow INFO:\n",
      "\t [Node] Setting-up \"_reconall0\" in \"/home/adway/Desktop/nipypeexpdir/reconallwfdir/reconallwf/_subject_id_s1002/reconall/mapflow/_reconall0\".\n",
      "190731-14:41:55,691 nipype.workflow INFO:\n",
      "\t [Node] Setting-up \"_reconall0\" in \"/home/adway/Desktop/nipypeexpdir/reconallwfdir/reconallwf/_subject_id_s1001/reconall/mapflow/_reconall0\".\n",
      "190731-14:41:55,692 nipype.workflow INFO:\n",
      "\t [Node] Outdated cache found for \"_reconall0\".\n",
      "190731-14:41:55,693 nipype.workflow INFO:\n",
      "\t [Node] Outdated cache found for \"_reconall0\".\n",
      "190731-14:41:55,698 nipype.interface INFO:\n",
      "\t recon-all complete : Not running\n",
      "190731-14:41:55,699 nipype.interface INFO:\n",
      "\t recon-all complete : Not running\n",
      "190731-14:41:55,699 nipype.workflow INFO:\n",
      "\t [Node] Running \"_reconall0\" (\"nipype.interfaces.freesurfer.preprocess.ReconAll\"), a CommandLine Interface with command:\n",
      "echo recon-all: nothing to do\n",
      "190731-14:41:55,700 nipype.workflow INFO:\n",
      "\t [Node] Running \"_reconall0\" (\"nipype.interfaces.freesurfer.preprocess.ReconAll\"), a CommandLine Interface with command:\n",
      "echo recon-all: nothing to do\n",
      "190731-14:41:55,704 nipype.interface INFO:\n",
      "\t recon-all complete : Not running\n",
      "190731-14:41:55,705 nipype.interface INFO:\n",
      "\t recon-all complete : Not running\n",
      "190731-14:41:55,810 nipype.workflow INFO:\n",
      "\t [Node] Finished \"_reconall0\".\n",
      "190731-14:41:55,811 nipype.workflow INFO:\n",
      "\t [Node] Finished \"_reconall0\".\n",
      "190731-14:41:55,815 nipype.workflow INFO:\n",
      "\t [Node] Finished \"reconallwf.reconall\".\n",
      "190731-14:41:55,818 nipype.workflow INFO:\n",
      "\t [Node] Finished \"reconallwf.reconall\".\n",
      "190731-14:41:57,602 nipype.workflow INFO:\n",
      "\t [Job 1] Completed (reconallwf.reconall).\n",
      "190731-14:41:57,607 nipype.workflow INFO:\n",
      "\t [Job 4] Completed (reconallwf.reconall).\n",
      "190731-14:41:57,614 nipype.workflow INFO:\n",
      "\t [MultiProc] Running 0 tasks, and 2 jobs ready. Free memory (GB): 13.98/13.98, Free processors: 4/4.\n",
      "190731-14:41:57,656 nipype.workflow INFO:\n",
      "\t [Node] Setting-up \"reconallwf.LocalGI\" in \"/home/adway/Desktop/nipypeexpdir/reconallwfdir/reconallwf/_subject_id_s1002/LocalGI\".\n",
      "190731-14:41:57,661 nipype.workflow INFO:\n",
      "\t [Node] Setting-up \"reconallwf.LocalGI\" in \"/home/adway/Desktop/nipypeexpdir/reconallwfdir/reconallwf/_subject_id_s1001/LocalGI\".\n",
      "190731-14:41:57,662 nipype.workflow INFO:\n",
      "\t [Node] Setting-up \"_LocalGI0\" in \"/home/adway/Desktop/nipypeexpdir/reconallwfdir/reconallwf/_subject_id_s1002/LocalGI/mapflow/_LocalGI0\".\n",
      "190731-14:41:57,666 nipype.workflow INFO:\n",
      "\t [Node] Setting-up \"_LocalGI0\" in \"/home/adway/Desktop/nipypeexpdir/reconallwfdir/reconallwf/_subject_id_s1001/LocalGI/mapflow/_LocalGI0\".\n",
      "190731-14:41:57,666 nipype.interface INFO:\n",
      "\t recon-all complete : Not running\n",
      "190731-14:41:57,668 nipype.workflow INFO:\n",
      "\t [Node] Running \"_LocalGI0\" (\"nipype.interfaces.freesurfer.preprocess.ReconAll\"), a CommandLine Interface with command:\n",
      "echo recon-all: nothing to do\n",
      "190731-14:41:57,671 nipype.interface INFO:\n",
      "\t recon-all complete : Not running\n",
      "190731-14:41:57,672 nipype.interface INFO:\n",
      "\t recon-all complete : Not running\n",
      "190731-14:41:57,672 nipype.workflow INFO:\n",
      "\t [Node] Running \"_LocalGI0\" (\"nipype.interfaces.freesurfer.preprocess.ReconAll\"), a CommandLine Interface with command:\n",
      "echo recon-all: nothing to do\n",
      "190731-14:41:57,679 nipype.interface INFO:\n",
      "\t recon-all complete : Not running\n",
      "190731-14:41:57,787 nipype.workflow INFO:\n",
      "\t [Node] Finished \"_LocalGI0\".\n",
      "190731-14:41:57,788 nipype.workflow INFO:\n",
      "\t [Node] Finished \"_LocalGI0\".\n",
      "190731-14:41:57,805 nipype.workflow INFO:\n",
      "\t [Node] Finished \"reconallwf.LocalGI\".\n",
      "190731-14:41:57,805 nipype.workflow INFO:\n",
      "\t [Node] Finished \"reconallwf.LocalGI\".\n",
      "190731-14:41:59,606 nipype.workflow INFO:\n",
      "\t [Job 2] Completed (reconallwf.LocalGI).\n",
      "190731-14:41:59,611 nipype.workflow INFO:\n",
      "\t [Job 5] Completed (reconallwf.LocalGI).\n",
      "190731-14:41:59,618 nipype.workflow INFO:\n",
      "\t [MultiProc] Running 0 tasks, and 0 jobs ready. Free memory (GB): 13.98/13.98, Free processors: 4/4.\n"
     ]
    },
    {
     "data": {
      "text/plain": [
       "<networkx.classes.digraph.DiGraph at 0x7f43e9cdc2e8>"
      ]
     },
     "execution_count": 30,
     "metadata": {},
     "output_type": "execute_result"
    }
   ],
   "source": [
    "reconwf.run(\"MultiProc\", plugin_args={'n_procs': 4})"
   ]
  },
  {
   "cell_type": "code",
   "execution_count": null,
   "metadata": {},
   "outputs": [],
   "source": [
    "!nipypecli crash -r $(pwd)/crash-20190731-143239-adway-LoclaGI.a1-4341fb2e-85d2-40a9-acf6-ba206663e308.pklz"
   ]
  },
  {
   "cell_type": "code",
   "execution_count": null,
   "metadata": {
    "scrolled": false
   },
   "outputs": [],
   "source": [
    "localgiwf = Workflow(name = 'localgiwf')\n",
    "localgiwf.base_dir = os.path.join(exp_dir, 'localgiwf')\n",
    "localgiwf.connect([(reconwf, localgi, [('reconall.subject_id', 'subject_id')])\n",
    "                  ])                \n",
    "                  \n",
    "    \n",
    "\n",
    "localgiwf.run(\"MultiProc\", plugin_args = {'n_procs' : 4})"
   ]
  },
  {
   "cell_type": "code",
   "execution_count": null,
   "metadata": {},
   "outputs": [],
   "source": [
    "localgiwf.write_graph(graph2use='colored')\n",
    "reconwf.write_graph(graph2use='colored')"
   ]
  },
  {
   "cell_type": "code",
   "execution_count": null,
   "metadata": {},
   "outputs": [],
   "source": [
    "import os\n",
    "print(os.getcwd() + \"\\n\")\n"
   ]
  },
  {
   "cell_type": "code",
   "execution_count": null,
   "metadata": {},
   "outputs": [],
   "source": []
  },
  {
   "cell_type": "code",
   "execution_count": null,
   "metadata": {},
   "outputs": [],
   "source": []
  },
  {
   "cell_type": "code",
   "execution_count": null,
   "metadata": {},
   "outputs": [],
   "source": []
  }
 ],
 "metadata": {
  "kernelspec": {
   "display_name": "Python 3",
   "language": "python",
   "name": "python3"
  },
  "language_info": {
   "codemirror_mode": {
    "name": "ipython",
    "version": 3
   },
   "file_extension": ".py",
   "mimetype": "text/x-python",
   "name": "python",
   "nbconvert_exporter": "python",
   "pygments_lexer": "ipython3",
   "version": "3.7.3"
  }
 },
 "nbformat": 4,
 "nbformat_minor": 2
}
