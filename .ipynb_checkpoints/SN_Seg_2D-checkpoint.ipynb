{
 "cells": [
  {
   "cell_type": "code",
   "execution_count": 1,
   "metadata": {
    "colab": {
     "base_uri": "https://localhost:8080/",
     "height": 35
    },
    "colab_type": "code",
    "executionInfo": {
     "elapsed": 23028,
     "status": "ok",
     "timestamp": 1561013727748,
     "user": {
      "displayName": "Tanay Chougule",
      "photoUrl": "",
      "userId": "04927113477085597727"
     },
     "user_tz": -330
    },
    "id": "oQqnRF03QsbK",
    "outputId": "a18812ce-8e0a-45fb-950c-3fdc3fc9cfd9"
   },
   "outputs": [],
   "source": [
    "# from google.colab import drive\n",
    "# drive.mount('/content/gdrive',force_remount=True)"
   ]
  },
  {
   "cell_type": "code",
   "execution_count": 2,
   "metadata": {
    "colab": {},
    "colab_type": "code",
    "id": "CZxY1VhOQwWR"
   },
   "outputs": [],
   "source": [
    "# !pip install numpy\n",
    "# !pip install pandas\n",
    "# !pip install pillow\n",
    "# !pip install sklearn\n",
    "# !pip install scikit-image\n",
    "# !pip install webcolors\n",
    "# !pip install plotly\n",
    "# !pip install matplotlib\n",
    "# !pip install https://github.com/ANTsX/ANTsPy/releases/download/v0.1.6/antspy-0.1.6-cp36-cp36m-linux_x86_64.whl"
   ]
  },
  {
   "cell_type": "code",
   "execution_count": 3,
   "metadata": {
    "colab": {
     "base_uri": "https://localhost:8080/",
     "height": 35
    },
    "colab_type": "code",
    "executionInfo": {
     "elapsed": 22998,
     "status": "ok",
     "timestamp": 1561013727754,
     "user": {
      "displayName": "Tanay Chougule",
      "photoUrl": "",
      "userId": "04927113477085597727"
     },
     "user_tz": -330
    },
    "id": "XkvF7tD1Qtfy",
    "outputId": "ec70145e-90a0-4e94-9fdf-8a79a9eda4d3"
   },
   "outputs": [],
   "source": [
    "# cd /content/gdrive/My Drive/MyProjects/HC_Seg"
   ]
  },
  {
   "cell_type": "code",
   "execution_count": 4,
   "metadata": {
    "colab": {
     "base_uri": "https://localhost:8080/",
     "height": 35
    },
    "colab_type": "code",
    "executionInfo": {
     "elapsed": 27706,
     "status": "ok",
     "timestamp": 1561013732480,
     "user": {
      "displayName": "Tanay Chougule",
      "photoUrl": "",
      "userId": "04927113477085597727"
     },
     "user_tz": -330
    },
    "id": "iBTWiI9PQdeV",
    "outputId": "69edb10b-0199-4b6c-b4d0-a51bf04f9aeb"
   },
   "outputs": [
    {
     "name": "stderr",
     "output_type": "stream",
     "text": [
      "Using TensorFlow backend.\n"
     ]
    }
   ],
   "source": [
    "# %% Import Statements\n",
    "\n",
    "from keras.callbacks import EarlyStopping, ModelCheckpoint, ReduceLROnPlateau, CSVLogger, LearningRateScheduler\n",
    "from keras_preprocessing.image import ImageDataGenerator\n",
    "from sklearn.model_selection import train_test_split\n",
    "from matplotlib.image import imsave\n",
    "\n",
    "import matplotlib.pyplot as plt\n",
    "import keras.backend as K\n",
    "import tensorflow as tf\n",
    "import nibabel as nib\n",
    "import pandas as pd\n",
    "import numpy as np\n",
    "import random\n",
    "import shutil\n",
    "import keras\n",
    "import time\n",
    "import os"
   ]
  },
  {
   "cell_type": "code",
   "execution_count": 5,
   "metadata": {
    "colab": {},
    "colab_type": "code",
    "id": "-XGcZBYTQdee"
   },
   "outputs": [],
   "source": [
    "import models_3d\n",
    "from prep_data import get_subject_list, normalize, get_all_subjects, pad_to_shape, random_gamma_correction, hist_equalize, gamma_correction, threshold_mask\n",
    "from PatchGenerator import PatchGenerator\n",
    "from loss import get_tversky, dice_loss, dice_score"
   ]
  },
  {
   "cell_type": "code",
   "execution_count": 6,
   "metadata": {
    "colab": {
     "base_uri": "https://localhost:8080/",
     "height": 214
    },
    "colab_type": "code",
    "executionInfo": {
     "elapsed": 30920,
     "status": "ok",
     "timestamp": 1561013735725,
     "user": {
      "displayName": "Tanay Chougule",
      "photoUrl": "",
      "userId": "04927113477085597727"
     },
     "user_tz": -330
    },
    "id": "jcAlmFae1M3R",
    "outputId": "e6688cfa-1e83-4a06-e7a4-b5c0452f3425"
   },
   "outputs": [
    {
     "data": {
      "text/plain": [
       "['/job:localhost/replica:0/task:0/device:GPU:0']"
      ]
     },
     "execution_count": 6,
     "metadata": {},
     "output_type": "execute_result"
    }
   ],
   "source": [
    "K.tensorflow_backend._get_available_gpus()"
   ]
  },
  {
   "cell_type": "code",
   "execution_count": 7,
   "metadata": {
    "colab": {
     "base_uri": "https://localhost:8080/",
     "height": 202
    },
    "colab_type": "code",
    "executionInfo": {
     "elapsed": 31310,
     "status": "ok",
     "timestamp": 1561013736137,
     "user": {
      "displayName": "Tanay Chougule",
      "photoUrl": "",
      "userId": "04927113477085597727"
     },
     "user_tz": -330
    },
    "id": "Tz00akPoQdel",
    "outputId": "df28d017-af3d-460b-c4a8-1b134e6a50e9",
    "scrolled": true
   },
   "outputs": [
    {
     "data": {
      "text/html": [
       "<div>\n",
       "<style scoped>\n",
       "    .dataframe tbody tr th:only-of-type {\n",
       "        vertical-align: middle;\n",
       "    }\n",
       "\n",
       "    .dataframe tbody tr th {\n",
       "        vertical-align: top;\n",
       "    }\n",
       "\n",
       "    .dataframe thead th {\n",
       "        text-align: right;\n",
       "    }\n",
       "</style>\n",
       "<table border=\"1\" class=\"dataframe\">\n",
       "  <thead>\n",
       "    <tr style=\"text-align: right;\">\n",
       "      <th></th>\n",
       "      <th>Name</th>\n",
       "      <th>Image</th>\n",
       "      <th>Mask</th>\n",
       "    </tr>\n",
       "  </thead>\n",
       "  <tbody>\n",
       "    <tr>\n",
       "      <th>0</th>\n",
       "      <td>Data/Train/0006</td>\n",
       "      <td>Data/Train/0006/Image.nii.gz</td>\n",
       "      <td>Data/Train/0006/Mask.nii.gz</td>\n",
       "    </tr>\n",
       "    <tr>\n",
       "      <th>1</th>\n",
       "      <td>Data/Train/0009</td>\n",
       "      <td>Data/Train/0009/Image.nii.gz</td>\n",
       "      <td>Data/Train/0009/Mask.nii.gz</td>\n",
       "    </tr>\n",
       "    <tr>\n",
       "      <th>2</th>\n",
       "      <td>Data/Train/0013</td>\n",
       "      <td>Data/Train/0013/Image.nii.gz</td>\n",
       "      <td>Data/Train/0013/Mask.nii.gz</td>\n",
       "    </tr>\n",
       "    <tr>\n",
       "      <th>3</th>\n",
       "      <td>Data/Train/0016</td>\n",
       "      <td>Data/Train/0016/Image.nii.gz</td>\n",
       "      <td>Data/Train/0016/Mask.nii.gz</td>\n",
       "    </tr>\n",
       "    <tr>\n",
       "      <th>4</th>\n",
       "      <td>Data/Train/0020</td>\n",
       "      <td>Data/Train/0020/Image.nii.gz</td>\n",
       "      <td>Data/Train/0020/Mask.nii.gz</td>\n",
       "    </tr>\n",
       "  </tbody>\n",
       "</table>\n",
       "</div>"
      ],
      "text/plain": [
       "              Name                         Image                         Mask\n",
       "0  Data/Train/0006  Data/Train/0006/Image.nii.gz  Data/Train/0006/Mask.nii.gz\n",
       "1  Data/Train/0009  Data/Train/0009/Image.nii.gz  Data/Train/0009/Mask.nii.gz\n",
       "2  Data/Train/0013  Data/Train/0013/Image.nii.gz  Data/Train/0013/Mask.nii.gz\n",
       "3  Data/Train/0016  Data/Train/0016/Image.nii.gz  Data/Train/0016/Mask.nii.gz\n",
       "4  Data/Train/0020  Data/Train/0020/Image.nii.gz  Data/Train/0020/Mask.nii.gz"
      ]
     },
     "execution_count": 7,
     "metadata": {},
     "output_type": "execute_result"
    }
   ],
   "source": [
    "# %% Read input files\n",
    "df = get_subject_list(base_datadir='Data/Train/',Mask_format='Mask.nii.gz',Image_format='Image.nii.gz',save_path='Data/Train')\n",
    "df.head()"
   ]
  },
  {
   "cell_type": "code",
   "execution_count": 8,
   "metadata": {
    "colab": {
     "base_uri": "https://localhost:8080/",
     "height": 374
    },
    "colab_type": "code",
    "executionInfo": {
     "elapsed": 31298,
     "status": "ok",
     "timestamp": 1561013736138,
     "user": {
      "displayName": "Tanay Chougule",
      "photoUrl": "",
      "userId": "04927113477085597727"
     },
     "user_tz": -330
    },
    "id": "c-ePi0bCzt_6",
    "outputId": "1a859a18-f5dd-4467-b044-f2e2f7fbdc71"
   },
   "outputs": [
    {
     "name": "stdout",
     "output_type": "stream",
     "text": [
      "8 2\n"
     ]
    },
    {
     "data": {
      "text/html": [
       "<div>\n",
       "<style scoped>\n",
       "    .dataframe tbody tr th:only-of-type {\n",
       "        vertical-align: middle;\n",
       "    }\n",
       "\n",
       "    .dataframe tbody tr th {\n",
       "        vertical-align: top;\n",
       "    }\n",
       "\n",
       "    .dataframe thead th {\n",
       "        text-align: right;\n",
       "    }\n",
       "</style>\n",
       "<table border=\"1\" class=\"dataframe\">\n",
       "  <thead>\n",
       "    <tr style=\"text-align: right;\">\n",
       "      <th></th>\n",
       "      <th>Name</th>\n",
       "      <th>Image</th>\n",
       "      <th>Mask</th>\n",
       "    </tr>\n",
       "  </thead>\n",
       "  <tbody>\n",
       "    <tr>\n",
       "      <th>2</th>\n",
       "      <td>Data/Train/0013</td>\n",
       "      <td>Data/Train/0013/Image.nii.gz</td>\n",
       "      <td>Data/Train/0013/Mask.nii.gz</td>\n",
       "    </tr>\n",
       "    <tr>\n",
       "      <th>9</th>\n",
       "      <td>Data/Train/0036</td>\n",
       "      <td>Data/Train/0036/Image.nii.gz</td>\n",
       "      <td>Data/Train/0036/Mask.nii.gz</td>\n",
       "    </tr>\n",
       "  </tbody>\n",
       "</table>\n",
       "</div>"
      ],
      "text/plain": [
       "              Name                         Image                         Mask\n",
       "2  Data/Train/0013  Data/Train/0013/Image.nii.gz  Data/Train/0013/Mask.nii.gz\n",
       "9  Data/Train/0036  Data/Train/0036/Image.nii.gz  Data/Train/0036/Mask.nii.gz"
      ]
     },
     "execution_count": 8,
     "metadata": {},
     "output_type": "execute_result"
    }
   ],
   "source": [
    "# %% Train test Split\n",
    "train_df, test_df = train_test_split(df, test_size=0.20,random_state=1)\n",
    "print(len(train_df.index),len(test_df.index))\n",
    "test_df[0:10]"
   ]
  },
  {
   "cell_type": "code",
   "execution_count": 9,
   "metadata": {
    "colab": {},
    "colab_type": "code",
    "id": "RywqDd-YtLzN"
   },
   "outputs": [],
   "source": [
    "patch_shape = [512,512,3]\n",
    "strides = [1,1,1]\n",
    "# strides = [16,16,16]\n",
    "input_shape = patch_shape + [1]\n",
    "batch_size = 16"
   ]
  },
  {
   "cell_type": "code",
   "execution_count": 10,
   "metadata": {
    "colab": {},
    "colab_type": "code",
    "id": "YL-fD_MuxWnz"
   },
   "outputs": [],
   "source": [
    "def img_proc(image):\n",
    "    return normalize(image,norm_type='intensity') * 255\n",
    "\n",
    "def mask_proc(mask):\n",
    "    return threshold_mask(mask,label_values=[1,2,4])\n",
    "\n",
    "def discard_bg(patches):\n",
    "    \n",
    "    indices = []\n",
    "    for i in range(0,patches.shape[0]):\n",
    "        if np.count_nonzero(patches[i]) > 2:\n",
    "            indices.append(i)\n",
    "    return indices\n",
    "\n",
    "\n",
    "def balanced_patch_sampling(patches):\n",
    "    \n",
    "    fg_voxels = []\n",
    "    bg_voxels = []\n",
    "\n",
    "    h1 = int(patches.shape[1]*1/4)\n",
    "    w1 = int(patches.shape[2]*1/4)\n",
    "    h2 = patches.shape[1]-h1\n",
    "    w2 = patches.shape[2]-w1\n",
    "\n",
    "    for i in range(0,patches.shape[0]):\n",
    "        if np.count_nonzero(patches[i][h1:h2,w1:w2,:]) > 2:\n",
    "            fg_voxels.append(i)\n",
    "        else:\n",
    "            bg_voxels.append(i)\n",
    "\n",
    "    num_fg = len(fg_voxels)\n",
    "    random.shuffle(bg_voxels)\n",
    "    bg_voxels = bg_voxels[0:num_fg]\n",
    "\n",
    "    combined = [fg_voxels[int(x/2)] if x%2 ==0 else bg_voxels[int(x/2)] for x in range(num_fg*2)] # This will sample one fg and one bg voxels alternately\n",
    "\n",
    "    return combined\n"
   ]
  },
  {
   "cell_type": "code",
   "execution_count": 11,
   "metadata": {
    "colab": {
     "base_uri": "https://localhost:8080/",
     "height": 1609
    },
    "colab_type": "code",
    "executionInfo": {
     "elapsed": 176475,
     "status": "ok",
     "timestamp": 1561013881358,
     "user": {
      "displayName": "Tanay Chougule",
      "photoUrl": "",
      "userId": "04927113477085597727"
     },
     "user_tz": -330
    },
    "id": "6KPfNEvqQdeq",
    "outputId": "e66905fa-d9a4-47da-8263-d3773e863e45",
    "scrolled": true
   },
   "outputs": [
    {
     "name": "stdout",
     "output_type": "stream",
     "text": [
      "Analyzing Data :\n",
      "6\n",
      "4\n",
      "0\n",
      "3\n",
      "1\n",
      "7\n",
      "8\n",
      "5\n"
     ]
    }
   ],
   "source": [
    "train_datagen = PatchGenerator(patch_shape=patch_shape, strides=strides, batch_size=batch_size, \n",
    "                               label_mode='image', return_patch_number=False,\n",
    "                               image_preproc_fn=img_proc, target_image_preproc_fn=mask_proc,\n",
    "                               patch_preproc_fn=None, target_patch_preproc_fn=None,\n",
    "                               pad_zeros=False, shuffle=True, seed=1)\n",
    "\n",
    "train_patches = train_datagen.fit_dataframe(df=train_df, x_col='Image', y_col='Mask',\n",
    "                                            x_condition=discard_bg, y_condition=balanced_patch_sampling, \n",
    "                                            join_conditions='inner', use_preprocessing=True)"
   ]
  },
  {
   "cell_type": "code",
   "execution_count": 12,
   "metadata": {
    "colab": {
     "base_uri": "https://localhost:8080/",
     "height": 441
    },
    "colab_type": "code",
    "executionInfo": {
     "elapsed": 214840,
     "status": "ok",
     "timestamp": 1561013919738,
     "user": {
      "displayName": "Tanay Chougule",
      "photoUrl": "",
      "userId": "04927113477085597727"
     },
     "user_tz": -330
    },
    "id": "KGpZPQgU-OeA",
    "outputId": "e34f316f-fe08-4d05-b74a-0dd974601a24"
   },
   "outputs": [
    {
     "name": "stdout",
     "output_type": "stream",
     "text": [
      "Analyzing Data :\n",
      "2\n",
      "9\n"
     ]
    }
   ],
   "source": [
    "val_datagen = PatchGenerator(patch_shape=patch_shape, strides=strides, batch_size=batch_size,\n",
    "                              label_mode='image', return_patch_number=False,\n",
    "                              image_preproc_fn=img_proc, target_image_preproc_fn=mask_proc,\n",
    "                              patch_preproc_fn=None, target_patch_preproc_fn=None,\n",
    "                              pad_zeros=False, shuffle=False, seed=1)\n",
    "\n",
    "val_patches = val_datagen.fit_dataframe(df=test_df, x_col='Image', y_col='Mask',\n",
    "                                        x_condition=discard_bg, y_condition=balanced_patch_sampling, \n",
    "                                        join_conditions='inner', use_preprocessing=True)"
   ]
  },
  {
   "cell_type": "code",
   "execution_count": 13,
   "metadata": {
    "colab": {
     "base_uri": "https://localhost:8080/",
     "height": 52
    },
    "colab_type": "code",
    "executionInfo": {
     "elapsed": 214827,
     "status": "ok",
     "timestamp": 1561013919740,
     "user": {
      "displayName": "Tanay Chougule",
      "photoUrl": "",
      "userId": "04927113477085597727"
     },
     "user_tz": -330
    },
    "id": "3wkCnQjhzlKe",
    "outputId": "33de0614-56f5-4b66-afab-038d0779a604"
   },
   "outputs": [
    {
     "name": "stdout",
     "output_type": "stream",
     "text": [
      "8\n",
      "2\n"
     ]
    }
   ],
   "source": [
    "print(len(train_datagen))\n",
    "print(len(val_datagen))"
   ]
  },
  {
   "cell_type": "code",
   "execution_count": 14,
   "metadata": {
    "colab": {},
    "colab_type": "code",
    "id": "pQMrUG3pGT5D"
   },
   "outputs": [],
   "source": [
    "import time"
   ]
  },
  {
   "cell_type": "code",
   "execution_count": 15,
   "metadata": {},
   "outputs": [
    {
     "name": "stdout",
     "output_type": "stream",
     "text": [
      "Index:  0\n",
      "Time:  22.105262994766235\n",
      "(16, 512, 512, 3, 1)\n"
     ]
    }
   ],
   "source": [
    "start = time.time()\n",
    "idx = np.random.randint(0,len(val_datagen))\n",
    "X_test, Y_test = val_datagen.__getitem__(idx)\n",
    "end = time.time()\n",
    "print('Index: ',idx)\n",
    "print('Time: ',end-start)\n",
    "print(Y_test.shape)\n"
   ]
  },
  {
   "cell_type": "code",
   "execution_count": 20,
   "metadata": {
    "colab": {
     "base_uri": "https://localhost:8080/",
     "height": 251
    },
    "colab_type": "code",
    "executionInfo": {
     "elapsed": 223367,
     "status": "ok",
     "timestamp": 1561013928320,
     "user": {
      "displayName": "Tanay Chougule",
      "photoUrl": "",
      "userId": "04927113477085597727"
     },
     "user_tz": -330
    },
    "id": "x3XqKdASQde3",
    "outputId": "c5ab3089-30a9-4fd0-ff26-927e8bbc8b02"
   },
   "outputs": [
    {
     "name": "stdout",
     "output_type": "stream",
     "text": [
      "6 1 216.0\n"
     ]
    },
    {
     "data": {
      "text/plain": [
       "<matplotlib.image.AxesImage at 0x7f0ce4100898>"
      ]
     },
     "execution_count": 20,
     "metadata": {},
     "output_type": "execute_result"
    },
    {
     "data": {
      "image/png": "[encoded data removed]",
      "text/plain": [
       "<Figure size 720x720 with 3 Axes>"
      ]
     },
     "metadata": {},
     "output_type": "display_data"
    }
   ],
   "source": [
    "# %% Sanity Check inputs\n",
    "\n",
    "patch_n = 0\n",
    "slice_n = 0\n",
    "\n",
    "fg = []\n",
    "bg = []\n",
    "\n",
    "for p in range(0,Y_test.shape[0]):\n",
    "    for s in range(0,Y_test[p].shape[-2]):\n",
    "        if np.sum(Y_test[p,:,:,s,0])>2:\n",
    "            fg.append([p,s])\n",
    "        else:\n",
    "            bg.append([p,s])\n",
    "\n",
    "# patch_n, slice_n = bg[np.random.choice(np.arange(len(bg)))]\n",
    "patch_n, slice_n = fg[np.random.choice(np.arange(len(fg)))]\n",
    "print(patch_n, slice_n, np.sum(Y_test[patch_n,:,:,slice_n]))\n",
    "\n",
    "fig = plt.figure(figsize=(10,10))\n",
    "plt.subplot(1, 3, 1)\n",
    "plt.imshow(X_test[patch_n, :, :, slice_n,0], cmap='gray')\n",
    "plt.subplot(1, 3, 2)\n",
    "plt.imshow(Y_test[patch_n, :, :, slice_n,0], cmap='jet')\n",
    "plt.subplot(1, 3, 3)\n",
    "plt.imshow(X_test[patch_n, :, :, slice_n,0], cmap='gray')\n",
    "plt.imshow(Y_test[patch_n, :, :, slice_n,0], cmap='jet', alpha=0.3)"
   ]
  },
  {
   "cell_type": "code",
   "execution_count": 21,
   "metadata": {
    "colab": {
     "base_uri": "https://localhost:8080/",
     "height": 72
    },
    "colab_type": "code",
    "executionInfo": {
     "elapsed": 225849,
     "status": "ok",
     "timestamp": 1561013930823,
     "user": {
      "displayName": "Tanay Chougule",
      "photoUrl": "",
      "userId": "04927113477085597727"
     },
     "user_tz": -330
    },
    "id": "3oJy2GdpQdfC",
    "outputId": "37c61361-ca6c-485a-c75d-bfdf674c6b6b"
   },
   "outputs": [],
   "source": [
    "# %% Define Model and callbacks\n",
    "\n",
    "wt_path = './weights/3D_UNet_weights.hdf5'\n",
    "model_path = './weights/3D_UNet.hdf5'\n",
    "\n",
    "callbacks = [\n",
    "    EarlyStopping(monitor='val_loss', min_delta=0.001, patience=25, restore_best_weights=True,verbose=True),  \n",
    "    ModelCheckpoint(monitor='val_dice_score',mode='max',filepath=wt_path, save_best_only=True, save_weights_only=True,verbose=True),\n",
    "    ReduceLROnPlateau(monitor='loss', verbose=1, cooldown=25, min_lr=1e-8)\n",
    "]\n",
    "\n",
    "ip = keras.layers.Input(shape=input_shape)\n",
    "decoded = models_3d.unet(\n",
    "    ip,\n",
    "    output_shape=input_shape,    \n",
    "    filters=[32, 64, 64, 128, 128, 512, 512, 1024],\n",
    "    pool_size = (2,2,1),\n",
    "    kernel_size = (3,3,1),\n",
    "    intermediate_activation='relu',\n",
    "    final_activation='sigmoid')\n",
    "\n",
    "model = keras.Model(inputs=ip, outputs=decoded)"
   ]
  },
  {
   "cell_type": "code",
   "execution_count": 22,
   "metadata": {
    "colab": {
     "base_uri": "https://localhost:8080/",
     "height": 1963
    },
    "colab_type": "code",
    "executionInfo": {
     "elapsed": 225837,
     "status": "ok",
     "timestamp": 1561013930824,
     "user": {
      "displayName": "Tanay Chougule",
      "photoUrl": "",
      "userId": "04927113477085597727"
     },
     "user_tz": -330
    },
    "id": "8Th37tLQQdfF",
    "outputId": "dea4b736-814c-4d62-b7b8-232f9867df59",
    "scrolled": true
   },
   "outputs": [
    {
     "name": "stdout",
     "output_type": "stream",
     "text": [
      "__________________________________________________________________________________________________\n",
      "Layer (type)                    Output Shape         Param #     Connected to                     \n",
      "==================================================================================================\n",
      "input_1 (InputLayer)            (None, 512, 512, 3,  0                                            \n",
      "__________________________________________________________________________________________________\n",
      "UNet_EncoderLayer_0_Conv3D (Con (None, 512, 512, 3,  320         input_1[0][0]                    \n",
      "__________________________________________________________________________________________________\n",
      "UNet_EncoderLayer_0_Activation  (None, 512, 512, 3,  0           UNet_EncoderLayer_0_Conv3D[0][0] \n",
      "__________________________________________________________________________________________________\n",
      "UNet_EncoderLayer_0_BatchNorm ( (None, 512, 512, 3,  128         UNet_EncoderLayer_0_Activation[0]\n",
      "__________________________________________________________________________________________________\n",
      "UNet_EncoderLayer_1_Conv3D (Con (None, 512, 512, 3,  18496       UNet_EncoderLayer_0_BatchNorm[0][\n",
      "__________________________________________________________________________________________________\n",
      "UNet_EncoderLayer_1_Activation  (None, 512, 512, 3,  0           UNet_EncoderLayer_1_Conv3D[0][0] \n",
      "__________________________________________________________________________________________________\n",
      "UNet_EncoderLayer_1_BatchNorm ( (None, 512, 512, 3,  256         UNet_EncoderLayer_1_Activation[0]\n",
      "__________________________________________________________________________________________________\n",
      "UNet_EncoderLayer_2_MaxPool (Ma (None, 256, 256, 3,  0           UNet_EncoderLayer_1_BatchNorm[0][\n",
      "__________________________________________________________________________________________________\n",
      "UNet_EncoderLayer_2_Conv3D (Con (None, 256, 256, 3,  36928       UNet_EncoderLayer_2_MaxPool[0][0]\n",
      "__________________________________________________________________________________________________\n",
      "UNet_EncoderLayer_2_Activation  (None, 256, 256, 3,  0           UNet_EncoderLayer_2_Conv3D[0][0] \n",
      "__________________________________________________________________________________________________\n",
      "UNet_EncoderLayer_2_BatchNorm ( (None, 256, 256, 3,  256         UNet_EncoderLayer_2_Activation[0]\n",
      "__________________________________________________________________________________________________\n",
      "UNet_EncoderLayer_3_Conv3D (Con (None, 256, 256, 3,  73856       UNet_EncoderLayer_2_BatchNorm[0][\n",
      "__________________________________________________________________________________________________\n",
      "UNet_EncoderLayer_3_Activation  (None, 256, 256, 3,  0           UNet_EncoderLayer_3_Conv3D[0][0] \n",
      "__________________________________________________________________________________________________\n",
      "UNet_EncoderLayer_3_BatchNorm ( (None, 256, 256, 3,  512         UNet_EncoderLayer_3_Activation[0]\n",
      "__________________________________________________________________________________________________\n",
      "UNet_EncoderLayer_4_MaxPool (Ma (None, 128, 128, 3,  0           UNet_EncoderLayer_3_BatchNorm[0][\n",
      "__________________________________________________________________________________________________\n",
      "UNet_EncoderLayer_4_Conv3D (Con (None, 128, 128, 3,  147584      UNet_EncoderLayer_4_MaxPool[0][0]\n",
      "__________________________________________________________________________________________________\n",
      "UNet_EncoderLayer_4_Activation  (None, 128, 128, 3,  0           UNet_EncoderLayer_4_Conv3D[0][0] \n",
      "__________________________________________________________________________________________________\n",
      "UNet_EncoderLayer_4_BatchNorm ( (None, 128, 128, 3,  512         UNet_EncoderLayer_4_Activation[0]\n",
      "__________________________________________________________________________________________________\n",
      "UNet_EncoderLayer_5_Conv3D (Con (None, 128, 128, 3,  590336      UNet_EncoderLayer_4_BatchNorm[0][\n",
      "__________________________________________________________________________________________________\n",
      "UNet_EncoderLayer_5_Activation  (None, 128, 128, 3,  0           UNet_EncoderLayer_5_Conv3D[0][0] \n",
      "__________________________________________________________________________________________________\n",
      "UNet_EncoderLayer_5_BatchNorm ( (None, 128, 128, 3,  2048        UNet_EncoderLayer_5_Activation[0]\n",
      "__________________________________________________________________________________________________\n",
      "UNet_BottleNeck_MaxPool (MaxPoo (None, 64, 64, 3, 51 0           UNet_EncoderLayer_5_BatchNorm[0][\n",
      "__________________________________________________________________________________________________\n",
      "UNet_BottleNeck_Conv3D_A (Conv3 (None, 64, 64, 3, 51 2359808     UNet_BottleNeck_MaxPool[0][0]    \n",
      "__________________________________________________________________________________________________\n",
      "UNet_BottleNeck_Activation_A (A (None, 64, 64, 3, 51 0           UNet_BottleNeck_Conv3D_A[0][0]   \n",
      "__________________________________________________________________________________________________\n",
      "UNet_BottleNeck_BatchNorm_A (Ba (None, 64, 64, 3, 51 2048        UNet_BottleNeck_Activation_A[0][0\n",
      "__________________________________________________________________________________________________\n",
      "UNet_BottleNeck_Conv3D_B (Conv3 (None, 64, 64, 3, 10 4719616     UNet_BottleNeck_BatchNorm_A[0][0]\n",
      "__________________________________________________________________________________________________\n",
      "UNet_BottleNeck_Activation_B (A (None, 64, 64, 3, 10 0           UNet_BottleNeck_Conv3D_B[0][0]   \n",
      "__________________________________________________________________________________________________\n",
      "UNet_BottleNeck_BatchNorm_B (Ba (None, 64, 64, 3, 10 4096        UNet_BottleNeck_Activation_B[0][0\n",
      "__________________________________________________________________________________________________\n",
      "UNet_DecoderLayer_0_DeConv (Con (None, 128, 128, 3,  4719104     UNet_BottleNeck_BatchNorm_B[0][0]\n",
      "__________________________________________________________________________________________________\n",
      "UNet_DecoderLayer_0_Concatenate (None, 128, 128, 3,  0           UNet_DecoderLayer_0_DeConv[0][0] \n",
      "                                                                 UNet_EncoderLayer_5_BatchNorm[0][\n",
      "__________________________________________________________________________________________________\n",
      "UNet_DecoderLayer_0_Activation  (None, 128, 128, 3,  0           UNet_DecoderLayer_0_Concatenate[0\n",
      "__________________________________________________________________________________________________\n",
      "UNet_DecoderLayer_0_BatchNorm ( (None, 128, 128, 3,  4096        UNet_DecoderLayer_0_Activation[0]\n",
      "__________________________________________________________________________________________________\n",
      "UNet_DecoderLayer_1_Conv3D (Con (None, 128, 128, 3,  1179776     UNet_DecoderLayer_0_BatchNorm[0][\n",
      "__________________________________________________________________________________________________\n",
      "UNet_DecoderLayer_1_Activation  (None, 128, 128, 3,  0           UNet_DecoderLayer_1_Conv3D[0][0] \n",
      "__________________________________________________________________________________________________\n",
      "UNet_DecoderLayer_1_BatchNorm ( (None, 128, 128, 3,  512         UNet_DecoderLayer_1_Activation[0]\n",
      "__________________________________________________________________________________________________\n",
      "UNet_DecoderLayer_2_DeConv (Con (None, 256, 256, 3,  147584      UNet_DecoderLayer_1_BatchNorm[0][\n",
      "__________________________________________________________________________________________________\n",
      "UNet_DecoderLayer_2_Concatenate (None, 256, 256, 3,  0           UNet_DecoderLayer_2_DeConv[0][0] \n",
      "                                                                 UNet_EncoderLayer_3_BatchNorm[0][\n",
      "__________________________________________________________________________________________________\n",
      "UNet_DecoderLayer_2_Activation  (None, 256, 256, 3,  0           UNet_DecoderLayer_2_Concatenate[0\n",
      "__________________________________________________________________________________________________\n",
      "UNet_DecoderLayer_2_BatchNorm ( (None, 256, 256, 3,  1024        UNet_DecoderLayer_2_Activation[0]\n",
      "__________________________________________________________________________________________________\n",
      "UNet_DecoderLayer_3_Conv3D (Con (None, 256, 256, 3,  147520      UNet_DecoderLayer_2_BatchNorm[0][\n",
      "__________________________________________________________________________________________________\n",
      "UNet_DecoderLayer_3_Activation  (None, 256, 256, 3,  0           UNet_DecoderLayer_3_Conv3D[0][0] \n",
      "__________________________________________________________________________________________________\n",
      "UNet_DecoderLayer_3_BatchNorm ( (None, 256, 256, 3,  256         UNet_DecoderLayer_3_Activation[0]\n",
      "__________________________________________________________________________________________________\n",
      "UNet_DecoderLayer_4_DeConv (Con (None, 512, 512, 3,  36928       UNet_DecoderLayer_3_BatchNorm[0][\n",
      "__________________________________________________________________________________________________\n",
      "UNet_DecoderLayer_4_Concatenate (None, 512, 512, 3,  0           UNet_DecoderLayer_4_DeConv[0][0] \n",
      "                                                                 UNet_EncoderLayer_1_BatchNorm[0][\n",
      "__________________________________________________________________________________________________\n",
      "UNet_DecoderLayer_4_Activation  (None, 512, 512, 3,  0           UNet_DecoderLayer_4_Concatenate[0\n",
      "__________________________________________________________________________________________________\n",
      "UNet_DecoderLayer_4_BatchNorm ( (None, 512, 512, 3,  512         UNet_DecoderLayer_4_Activation[0]\n",
      "__________________________________________________________________________________________________\n",
      "UNet_DecoderLayer_5_Conv3D (Con (None, 512, 512, 3,  36896       UNet_DecoderLayer_4_BatchNorm[0][\n",
      "__________________________________________________________________________________________________\n",
      "UNet_DecoderLayer_5_Activation  (None, 512, 512, 3,  0           UNet_DecoderLayer_5_Conv3D[0][0] \n",
      "__________________________________________________________________________________________________\n",
      "UNet_DecoderLayer_5_BatchNorm ( (None, 512, 512, 3,  128         UNet_DecoderLayer_5_Activation[0]\n",
      "__________________________________________________________________________________________________\n",
      "Final_Conv3D (Conv3D)           (None, 512, 512, 3,  4001        UNet_DecoderLayer_5_BatchNorm[0][\n",
      "==================================================================================================\n",
      "Total params: 14,235,137\n",
      "Trainable params: 14,226,945\n",
      "Non-trainable params: 8,192\n",
      "__________________________________________________________________________________________________\n"
     ]
    }
   ],
   "source": [
    "model.summary()"
   ]
  },
  {
   "cell_type": "code",
   "execution_count": 23,
   "metadata": {
    "colab": {
     "base_uri": "https://localhost:8080/",
     "height": 125
    },
    "colab_type": "code",
    "executionInfo": {
     "elapsed": 225824,
     "status": "ok",
     "timestamp": 1561013930825,
     "user": {
      "displayName": "Tanay Chougule",
      "photoUrl": "",
      "userId": "04927113477085597727"
     },
     "user_tz": -330
    },
    "id": "K5y1Hvm3QdfK",
    "outputId": "f8dd1c39-e6fb-410c-ea8f-b60a5413ae14"
   },
   "outputs": [],
   "source": [
    "# %% Compile Model\n",
    "\n",
    "smooth = 1e-12\n",
    "\n",
    "adam = keras.optimizers.Adagrad(lr=1e-4)\n",
    "# adam = keras.optimizers.Adam(lr=1e-2)\n",
    "\n",
    "# loss_fn = 'binary_crossentropy'\n",
    "# loss_fn = dice_loss\n",
    "loss_fn = get_tversky({'alpha':0.2,'beta':0.8})\n",
    "\n",
    "\n",
    "model.compile(optimizer=adam, loss=loss_fn, metrics=['binary_crossentropy',dice_score])"
   ]
  },
  {
   "cell_type": "code",
   "execution_count": 24,
   "metadata": {
    "colab": {
     "base_uri": "https://localhost:8080/",
     "height": 35
    },
    "colab_type": "code",
    "executionInfo": {
     "elapsed": 229667,
     "status": "ok",
     "timestamp": 1561013934687,
     "user": {
      "displayName": "Tanay Chougule",
      "photoUrl": "",
      "userId": "04927113477085597727"
     },
     "user_tz": -330
    },
    "id": "3AJN_ZqYQdfN",
    "outputId": "ff84a00e-0059-4040-cd37-62eddb453fc5"
   },
   "outputs": [
    {
     "name": "stdout",
     "output_type": "stream",
     "text": [
      "no weights\n"
     ]
    }
   ],
   "source": [
    "# %% Load pre-trained model\n",
    "\n",
    "if os.path.exists(wt_path):\n",
    "    model.load_weights(wt_path)\n",
    "    print('loading weights')\n",
    "else:\n",
    "#     model.load_weights('weights/init_weights.hdf5')\n",
    "    print('no weights')"
   ]
  },
  {
   "cell_type": "code",
   "execution_count": 25,
   "metadata": {
    "colab": {
     "base_uri": "https://localhost:8080/",
     "height": 143
    },
    "colab_type": "code",
    "id": "nrcQtssaQdfT",
    "outputId": "98c0071c-602c-4058-e649-591486deb690",
    "scrolled": true
   },
   "outputs": [
    {
     "name": "stdout",
     "output_type": "stream",
     "text": [
      "Epoch 1/100\n"
     ]
    },
    {
     "ename": "ResourceExhaustedError",
     "evalue": "OOM when allocating tensor with shape[16,512,512,3,32] and type float on /job:localhost/replica:0/task:0/device:GPU:0 by allocator GPU_0_bfc\n\t [[Node: UNet_EncoderLayer_0_BatchNorm/batchnorm/mul_1 = Mul[T=DT_FLOAT, _device=\"/job:localhost/replica:0/task:0/device:GPU:0\"](UNet_EncoderLayer_0_Activation/Relu, UNet_EncoderLayer_0_BatchNorm/batchnorm/mul)]]\nHint: If you want to see a list of allocated tensors when OOM happens, add report_tensor_allocations_upon_oom to RunOptions for current allocation info.\n\n\t [[Node: loss/mul/_685 = _Recv[client_terminated=false, recv_device=\"/job:localhost/replica:0/task:0/device:CPU:0\", send_device=\"/job:localhost/replica:0/task:0/device:GPU:0\", send_device_incarnation=1, tensor_name=\"edge_6792_loss/mul\", tensor_type=DT_FLOAT, _device=\"/job:localhost/replica:0/task:0/device:CPU:0\"]()]]\nHint: If you want to see a list of allocated tensors when OOM happens, add report_tensor_allocations_upon_oom to RunOptions for current allocation info.\n\n\nCaused by op 'UNet_EncoderLayer_0_BatchNorm/batchnorm/mul_1', defined at:\n  File \"/home/scmia/anaconda3/envs/tensorflow/lib/python3.6/runpy.py\", line 193, in _run_module_as_main\n    \"__main__\", mod_spec)\n  File \"/home/scmia/anaconda3/envs/tensorflow/lib/python3.6/runpy.py\", line 85, in _run_code\n    exec(code, run_globals)\n  File \"/home/scmia/.local/lib/python3.6/site-packages/ipykernel_launcher.py\", line 16, in <module>\n    app.launch_new_instance()\n  File \"/home/scmia/.local/lib/python3.6/site-packages/traitlets/config/application.py\", line 658, in launch_instance\n    app.start()\n  File \"/home/scmia/.local/lib/python3.6/site-packages/ipykernel/kernelapp.py\", line 486, in start\n    self.io_loop.start()\n  File \"/home/scmia/.local/lib/python3.6/site-packages/tornado/platform/asyncio.py\", line 127, in start\n    self.asyncio_loop.run_forever()\n  File \"/home/scmia/anaconda3/envs/tensorflow/lib/python3.6/asyncio/base_events.py\", line 422, in run_forever\n    self._run_once()\n  File \"/home/scmia/anaconda3/envs/tensorflow/lib/python3.6/asyncio/base_events.py\", line 1432, in _run_once\n    handle._run()\n  File \"/home/scmia/anaconda3/envs/tensorflow/lib/python3.6/asyncio/events.py\", line 145, in _run\n    self._callback(*self._args)\n  File \"/home/scmia/.local/lib/python3.6/site-packages/tornado/platform/asyncio.py\", line 117, in _handle_events\n    handler_func(fileobj, events)\n  File \"/home/scmia/.local/lib/python3.6/site-packages/tornado/stack_context.py\", line 276, in null_wrapper\n    return fn(*args, **kwargs)\n  File \"/home/scmia/.local/lib/python3.6/site-packages/zmq/eventloop/zmqstream.py\", line 450, in _handle_events\n    self._handle_recv()\n  File \"/home/scmia/.local/lib/python3.6/site-packages/zmq/eventloop/zmqstream.py\", line 480, in _handle_recv\n    self._run_callback(callback, msg)\n  File \"/home/scmia/.local/lib/python3.6/site-packages/zmq/eventloop/zmqstream.py\", line 432, in _run_callback\n    callback(*args, **kwargs)\n  File \"/home/scmia/.local/lib/python3.6/site-packages/tornado/stack_context.py\", line 276, in null_wrapper\n    return fn(*args, **kwargs)\n  File \"/home/scmia/.local/lib/python3.6/site-packages/ipykernel/kernelbase.py\", line 283, in dispatcher\n    return self.dispatch_shell(stream, msg)\n  File \"/home/scmia/.local/lib/python3.6/site-packages/ipykernel/kernelbase.py\", line 233, in dispatch_shell\n    handler(stream, idents, msg)\n  File \"/home/scmia/.local/lib/python3.6/site-packages/ipykernel/kernelbase.py\", line 399, in execute_request\n    user_expressions, allow_stdin)\n  File \"/home/scmia/.local/lib/python3.6/site-packages/ipykernel/ipkernel.py\", line 208, in do_execute\n    res = shell.run_cell(code, store_history=store_history, silent=silent)\n  File \"/home/scmia/.local/lib/python3.6/site-packages/ipykernel/zmqshell.py\", line 537, in run_cell\n    return super(ZMQInteractiveShell, self).run_cell(*args, **kwargs)\n  File \"/home/scmia/.local/lib/python3.6/site-packages/IPython/core/interactiveshell.py\", line 2662, in run_cell\n    raw_cell, store_history, silent, shell_futures)\n  File \"/home/scmia/.local/lib/python3.6/site-packages/IPython/core/interactiveshell.py\", line 2785, in _run_cell\n    interactivity=interactivity, compiler=compiler, result=result)\n  File \"/home/scmia/.local/lib/python3.6/site-packages/IPython/core/interactiveshell.py\", line 2903, in run_ast_nodes\n    if self.run_code(code, result):\n  File \"/home/scmia/.local/lib/python3.6/site-packages/IPython/core/interactiveshell.py\", line 2963, in run_code\n    exec(code_obj, self.user_global_ns, self.user_ns)\n  File \"<ipython-input-21-fffb21aa8aab>\", line 20, in <module>\n    final_activation='sigmoid')\n  File \"/home/scmia/Documents/SN/Auto_Segmentation/models_3d.py\", line 232, in unet\n    x = layers.BatchNormalization(name=name+'BatchNorm')(x)\n  File \"/home/scmia/anaconda3/envs/tensorflow/lib/python3.6/site-packages/keras/engine/base_layer.py\", line 457, in __call__\n    output = self.call(inputs, **kwargs)\n  File \"/home/scmia/anaconda3/envs/tensorflow/lib/python3.6/site-packages/keras/layers/normalization.py\", line 185, in call\n    epsilon=self.epsilon)\n  File \"/home/scmia/anaconda3/envs/tensorflow/lib/python3.6/site-packages/keras/backend/tensorflow_backend.py\", line 1869, in normalize_batch_in_training\n    epsilon=epsilon)\n  File \"/home/scmia/anaconda3/envs/tensorflow/lib/python3.6/site-packages/keras/backend/tensorflow_backend.py\", line 1753, in _regular_normalize_batch_in_training\n    epsilon)\n  File \"/home/scmia/anaconda3/envs/tensorflow/lib/python3.6/site-packages/tensorflow/python/ops/nn_impl.py\", line 833, in batch_normalization\n    return x * inv + (\n  File \"/home/scmia/anaconda3/envs/tensorflow/lib/python3.6/site-packages/tensorflow/python/ops/math_ops.py\", line 971, in binary_op_wrapper\n    return func(x, y, name=name)\n  File \"/home/scmia/anaconda3/envs/tensorflow/lib/python3.6/site-packages/tensorflow/python/ops/math_ops.py\", line 1198, in _mul_dispatch\n    return gen_math_ops.mul(x, y, name=name)\n  File \"/home/scmia/anaconda3/envs/tensorflow/lib/python3.6/site-packages/tensorflow/python/ops/gen_math_ops.py\", line 4689, in mul\n    \"Mul\", x=x, y=y, name=name)\n  File \"/home/scmia/anaconda3/envs/tensorflow/lib/python3.6/site-packages/tensorflow/python/framework/op_def_library.py\", line 787, in _apply_op_helper\n    op_def=op_def)\n  File \"/home/scmia/anaconda3/envs/tensorflow/lib/python3.6/site-packages/tensorflow/python/framework/ops.py\", line 3290, in create_op\n    op_def=op_def)\n  File \"/home/scmia/anaconda3/envs/tensorflow/lib/python3.6/site-packages/tensorflow/python/framework/ops.py\", line 1654, in __init__\n    self._traceback = self._graph._extract_stack()  # pylint: disable=protected-access\n\nResourceExhaustedError (see above for traceback): OOM when allocating tensor with shape[16,512,512,3,32] and type float on /job:localhost/replica:0/task:0/device:GPU:0 by allocator GPU_0_bfc\n\t [[Node: UNet_EncoderLayer_0_BatchNorm/batchnorm/mul_1 = Mul[T=DT_FLOAT, _device=\"/job:localhost/replica:0/task:0/device:GPU:0\"](UNet_EncoderLayer_0_Activation/Relu, UNet_EncoderLayer_0_BatchNorm/batchnorm/mul)]]\nHint: If you want to see a list of allocated tensors when OOM happens, add report_tensor_allocations_upon_oom to RunOptions for current allocation info.\n\n\t [[Node: loss/mul/_685 = _Recv[client_terminated=false, recv_device=\"/job:localhost/replica:0/task:0/device:CPU:0\", send_device=\"/job:localhost/replica:0/task:0/device:GPU:0\", send_device_incarnation=1, tensor_name=\"edge_6792_loss/mul\", tensor_type=DT_FLOAT, _device=\"/job:localhost/replica:0/task:0/device:CPU:0\"]()]]\nHint: If you want to see a list of allocated tensors when OOM happens, add report_tensor_allocations_upon_oom to RunOptions for current allocation info.\n\n",
     "output_type": "error",
     "traceback": [
      "\u001b[0;31m---------------------------------------------------------------------------\u001b[0m",
      "\u001b[0;31mResourceExhaustedError\u001b[0m                    Traceback (most recent call last)",
      "\u001b[0;32m~/anaconda3/envs/tensorflow/lib/python3.6/site-packages/tensorflow/python/client/session.py\u001b[0m in \u001b[0;36m_do_call\u001b[0;34m(self, fn, *args)\u001b[0m\n\u001b[1;32m   1326\u001b[0m     \u001b[0;32mtry\u001b[0m\u001b[0;34m:\u001b[0m\u001b[0;34m\u001b[0m\u001b[0m\n\u001b[0;32m-> 1327\u001b[0;31m       \u001b[0;32mreturn\u001b[0m \u001b[0mfn\u001b[0m\u001b[0;34m(\u001b[0m\u001b[0;34m*\u001b[0m\u001b[0margs\u001b[0m\u001b[0;34m)\u001b[0m\u001b[0;34m\u001b[0m\u001b[0m\n\u001b[0m\u001b[1;32m   1328\u001b[0m     \u001b[0;32mexcept\u001b[0m \u001b[0merrors\u001b[0m\u001b[0;34m.\u001b[0m\u001b[0mOpError\u001b[0m \u001b[0;32mas\u001b[0m \u001b[0me\u001b[0m\u001b[0;34m:\u001b[0m\u001b[0;34m\u001b[0m\u001b[0m\n",
      "\u001b[0;32m~/anaconda3/envs/tensorflow/lib/python3.6/site-packages/tensorflow/python/client/session.py\u001b[0m in \u001b[0;36m_run_fn\u001b[0;34m(feed_dict, fetch_list, target_list, options, run_metadata)\u001b[0m\n\u001b[1;32m   1311\u001b[0m       return self._call_tf_sessionrun(\n\u001b[0;32m-> 1312\u001b[0;31m           options, feed_dict, fetch_list, target_list, run_metadata)\n\u001b[0m\u001b[1;32m   1313\u001b[0m \u001b[0;34m\u001b[0m\u001b[0m\n",
      "\u001b[0;32m~/anaconda3/envs/tensorflow/lib/python3.6/site-packages/tensorflow/python/client/session.py\u001b[0m in \u001b[0;36m_call_tf_sessionrun\u001b[0;34m(self, options, feed_dict, fetch_list, target_list, run_metadata)\u001b[0m\n\u001b[1;32m   1419\u001b[0m             \u001b[0mself\u001b[0m\u001b[0;34m.\u001b[0m\u001b[0m_session\u001b[0m\u001b[0;34m,\u001b[0m \u001b[0moptions\u001b[0m\u001b[0;34m,\u001b[0m \u001b[0mfeed_dict\u001b[0m\u001b[0;34m,\u001b[0m \u001b[0mfetch_list\u001b[0m\u001b[0;34m,\u001b[0m \u001b[0mtarget_list\u001b[0m\u001b[0;34m,\u001b[0m\u001b[0;34m\u001b[0m\u001b[0m\n\u001b[0;32m-> 1420\u001b[0;31m             status, run_metadata)\n\u001b[0m\u001b[1;32m   1421\u001b[0m \u001b[0;34m\u001b[0m\u001b[0m\n",
      "\u001b[0;32m~/anaconda3/envs/tensorflow/lib/python3.6/site-packages/tensorflow/python/framework/errors_impl.py\u001b[0m in \u001b[0;36m__exit__\u001b[0;34m(self, type_arg, value_arg, traceback_arg)\u001b[0m\n\u001b[1;32m    515\u001b[0m             \u001b[0mcompat\u001b[0m\u001b[0;34m.\u001b[0m\u001b[0mas_text\u001b[0m\u001b[0;34m(\u001b[0m\u001b[0mc_api\u001b[0m\u001b[0;34m.\u001b[0m\u001b[0mTF_Message\u001b[0m\u001b[0;34m(\u001b[0m\u001b[0mself\u001b[0m\u001b[0;34m.\u001b[0m\u001b[0mstatus\u001b[0m\u001b[0;34m.\u001b[0m\u001b[0mstatus\u001b[0m\u001b[0;34m)\u001b[0m\u001b[0;34m)\u001b[0m\u001b[0;34m,\u001b[0m\u001b[0;34m\u001b[0m\u001b[0m\n\u001b[0;32m--> 516\u001b[0;31m             c_api.TF_GetCode(self.status.status))\n\u001b[0m\u001b[1;32m    517\u001b[0m     \u001b[0;31m# Delete the underlying status object from memory otherwise it stays alive\u001b[0m\u001b[0;34m\u001b[0m\u001b[0;34m\u001b[0m\u001b[0m\n",
      "\u001b[0;31mResourceExhaustedError\u001b[0m: OOM when allocating tensor with shape[16,512,512,3,32] and type float on /job:localhost/replica:0/task:0/device:GPU:0 by allocator GPU_0_bfc\n\t [[Node: UNet_EncoderLayer_0_BatchNorm/batchnorm/mul_1 = Mul[T=DT_FLOAT, _device=\"/job:localhost/replica:0/task:0/device:GPU:0\"](UNet_EncoderLayer_0_Activation/Relu, UNet_EncoderLayer_0_BatchNorm/batchnorm/mul)]]\nHint: If you want to see a list of allocated tensors when OOM happens, add report_tensor_allocations_upon_oom to RunOptions for current allocation info.\n\n\t [[Node: loss/mul/_685 = _Recv[client_terminated=false, recv_device=\"/job:localhost/replica:0/task:0/device:CPU:0\", send_device=\"/job:localhost/replica:0/task:0/device:GPU:0\", send_device_incarnation=1, tensor_name=\"edge_6792_loss/mul\", tensor_type=DT_FLOAT, _device=\"/job:localhost/replica:0/task:0/device:CPU:0\"]()]]\nHint: If you want to see a list of allocated tensors when OOM happens, add report_tensor_allocations_upon_oom to RunOptions for current allocation info.\n",
      "\nDuring handling of the above exception, another exception occurred:\n",
      "\u001b[0;31mResourceExhaustedError\u001b[0m                    Traceback (most recent call last)",
      "\u001b[0;32m<ipython-input-25-4995e9808dcb>\u001b[0m in \u001b[0;36m<module>\u001b[0;34m()\u001b[0m\n\u001b[1;32m      9\u001b[0m                     \u001b[0mvalidation_data\u001b[0m\u001b[0;34m=\u001b[0m\u001b[0mval_datagen\u001b[0m\u001b[0;34m,\u001b[0m\u001b[0;34m\u001b[0m\u001b[0m\n\u001b[1;32m     10\u001b[0m                     \u001b[0mvalidation_steps\u001b[0m\u001b[0;34m=\u001b[0m\u001b[0mval_steps\u001b[0m\u001b[0;34m,\u001b[0m\u001b[0;34m\u001b[0m\u001b[0m\n\u001b[0;32m---> 11\u001b[0;31m                     \u001b[0mworkers\u001b[0m\u001b[0;34m=\u001b[0m\u001b[0;36m4\u001b[0m\u001b[0;34m,\u001b[0m\u001b[0mshuffle\u001b[0m\u001b[0;34m=\u001b[0m\u001b[0;32mFalse\u001b[0m\u001b[0;34m\u001b[0m\u001b[0m\n\u001b[0m\u001b[1;32m     12\u001b[0m                     )\n",
      "\u001b[0;32m~/anaconda3/envs/tensorflow/lib/python3.6/site-packages/keras/legacy/interfaces.py\u001b[0m in \u001b[0;36mwrapper\u001b[0;34m(*args, **kwargs)\u001b[0m\n\u001b[1;32m     89\u001b[0m                 warnings.warn('Update your `' + object_name + '` call to the ' +\n\u001b[1;32m     90\u001b[0m                               'Keras 2 API: ' + signature, stacklevel=2)\n\u001b[0;32m---> 91\u001b[0;31m             \u001b[0;32mreturn\u001b[0m \u001b[0mfunc\u001b[0m\u001b[0;34m(\u001b[0m\u001b[0;34m*\u001b[0m\u001b[0margs\u001b[0m\u001b[0;34m,\u001b[0m \u001b[0;34m**\u001b[0m\u001b[0mkwargs\u001b[0m\u001b[0;34m)\u001b[0m\u001b[0;34m\u001b[0m\u001b[0m\n\u001b[0m\u001b[1;32m     92\u001b[0m         \u001b[0mwrapper\u001b[0m\u001b[0;34m.\u001b[0m\u001b[0m_original_function\u001b[0m \u001b[0;34m=\u001b[0m \u001b[0mfunc\u001b[0m\u001b[0;34m\u001b[0m\u001b[0m\n\u001b[1;32m     93\u001b[0m         \u001b[0;32mreturn\u001b[0m \u001b[0mwrapper\u001b[0m\u001b[0;34m\u001b[0m\u001b[0m\n",
      "\u001b[0;32m~/anaconda3/envs/tensorflow/lib/python3.6/site-packages/keras/engine/training.py\u001b[0m in \u001b[0;36mfit_generator\u001b[0;34m(self, generator, steps_per_epoch, epochs, verbose, callbacks, validation_data, validation_steps, class_weight, max_queue_size, workers, use_multiprocessing, shuffle, initial_epoch)\u001b[0m\n\u001b[1;32m   1416\u001b[0m             \u001b[0muse_multiprocessing\u001b[0m\u001b[0;34m=\u001b[0m\u001b[0muse_multiprocessing\u001b[0m\u001b[0;34m,\u001b[0m\u001b[0;34m\u001b[0m\u001b[0m\n\u001b[1;32m   1417\u001b[0m             \u001b[0mshuffle\u001b[0m\u001b[0;34m=\u001b[0m\u001b[0mshuffle\u001b[0m\u001b[0;34m,\u001b[0m\u001b[0;34m\u001b[0m\u001b[0m\n\u001b[0;32m-> 1418\u001b[0;31m             initial_epoch=initial_epoch)\n\u001b[0m\u001b[1;32m   1419\u001b[0m \u001b[0;34m\u001b[0m\u001b[0m\n\u001b[1;32m   1420\u001b[0m     \u001b[0;34m@\u001b[0m\u001b[0minterfaces\u001b[0m\u001b[0;34m.\u001b[0m\u001b[0mlegacy_generator_methods_support\u001b[0m\u001b[0;34m\u001b[0m\u001b[0m\n",
      "\u001b[0;32m~/anaconda3/envs/tensorflow/lib/python3.6/site-packages/keras/engine/training_generator.py\u001b[0m in \u001b[0;36mfit_generator\u001b[0;34m(model, generator, steps_per_epoch, epochs, verbose, callbacks, validation_data, validation_steps, class_weight, max_queue_size, workers, use_multiprocessing, shuffle, initial_epoch)\u001b[0m\n\u001b[1;32m    215\u001b[0m                 outs = model.train_on_batch(x, y,\n\u001b[1;32m    216\u001b[0m                                             \u001b[0msample_weight\u001b[0m\u001b[0;34m=\u001b[0m\u001b[0msample_weight\u001b[0m\u001b[0;34m,\u001b[0m\u001b[0;34m\u001b[0m\u001b[0m\n\u001b[0;32m--> 217\u001b[0;31m                                             class_weight=class_weight)\n\u001b[0m\u001b[1;32m    218\u001b[0m \u001b[0;34m\u001b[0m\u001b[0m\n\u001b[1;32m    219\u001b[0m                 \u001b[0mouts\u001b[0m \u001b[0;34m=\u001b[0m \u001b[0mto_list\u001b[0m\u001b[0;34m(\u001b[0m\u001b[0mouts\u001b[0m\u001b[0;34m)\u001b[0m\u001b[0;34m\u001b[0m\u001b[0m\n",
      "\u001b[0;32m~/anaconda3/envs/tensorflow/lib/python3.6/site-packages/keras/engine/training.py\u001b[0m in \u001b[0;36mtrain_on_batch\u001b[0;34m(self, x, y, sample_weight, class_weight)\u001b[0m\n\u001b[1;32m   1215\u001b[0m             \u001b[0mins\u001b[0m \u001b[0;34m=\u001b[0m \u001b[0mx\u001b[0m \u001b[0;34m+\u001b[0m \u001b[0my\u001b[0m \u001b[0;34m+\u001b[0m \u001b[0msample_weights\u001b[0m\u001b[0;34m\u001b[0m\u001b[0m\n\u001b[1;32m   1216\u001b[0m         \u001b[0mself\u001b[0m\u001b[0;34m.\u001b[0m\u001b[0m_make_train_function\u001b[0m\u001b[0;34m(\u001b[0m\u001b[0;34m)\u001b[0m\u001b[0;34m\u001b[0m\u001b[0m\n\u001b[0;32m-> 1217\u001b[0;31m         \u001b[0moutputs\u001b[0m \u001b[0;34m=\u001b[0m \u001b[0mself\u001b[0m\u001b[0;34m.\u001b[0m\u001b[0mtrain_function\u001b[0m\u001b[0;34m(\u001b[0m\u001b[0mins\u001b[0m\u001b[0;34m)\u001b[0m\u001b[0;34m\u001b[0m\u001b[0m\n\u001b[0m\u001b[1;32m   1218\u001b[0m         \u001b[0;32mreturn\u001b[0m \u001b[0munpack_singleton\u001b[0m\u001b[0;34m(\u001b[0m\u001b[0moutputs\u001b[0m\u001b[0;34m)\u001b[0m\u001b[0;34m\u001b[0m\u001b[0m\n\u001b[1;32m   1219\u001b[0m \u001b[0;34m\u001b[0m\u001b[0m\n",
      "\u001b[0;32m~/anaconda3/envs/tensorflow/lib/python3.6/site-packages/keras/backend/tensorflow_backend.py\u001b[0m in \u001b[0;36m__call__\u001b[0;34m(self, inputs)\u001b[0m\n\u001b[1;32m   2719\u001b[0m                     \u001b[0;34m'In order to feed symbolic tensors to a Keras model '\u001b[0m\u001b[0;34m\u001b[0m\u001b[0m\n\u001b[1;32m   2720\u001b[0m                     'in TensorFlow, you need tensorflow 1.8 or higher.')\n\u001b[0;32m-> 2721\u001b[0;31m             \u001b[0;32mreturn\u001b[0m \u001b[0mself\u001b[0m\u001b[0;34m.\u001b[0m\u001b[0m_legacy_call\u001b[0m\u001b[0;34m(\u001b[0m\u001b[0minputs\u001b[0m\u001b[0;34m)\u001b[0m\u001b[0;34m\u001b[0m\u001b[0m\n\u001b[0m\u001b[1;32m   2722\u001b[0m \u001b[0;34m\u001b[0m\u001b[0m\n\u001b[1;32m   2723\u001b[0m \u001b[0;34m\u001b[0m\u001b[0m\n",
      "\u001b[0;32m~/anaconda3/envs/tensorflow/lib/python3.6/site-packages/keras/backend/tensorflow_backend.py\u001b[0m in \u001b[0;36m_legacy_call\u001b[0;34m(self, inputs)\u001b[0m\n\u001b[1;32m   2691\u001b[0m         \u001b[0msession\u001b[0m \u001b[0;34m=\u001b[0m \u001b[0mget_session\u001b[0m\u001b[0;34m(\u001b[0m\u001b[0;34m)\u001b[0m\u001b[0;34m\u001b[0m\u001b[0m\n\u001b[1;32m   2692\u001b[0m         updated = session.run(fetches=fetches, feed_dict=feed_dict,\n\u001b[0;32m-> 2693\u001b[0;31m                               **self.session_kwargs)\n\u001b[0m\u001b[1;32m   2694\u001b[0m         \u001b[0;32mreturn\u001b[0m \u001b[0mupdated\u001b[0m\u001b[0;34m[\u001b[0m\u001b[0;34m:\u001b[0m\u001b[0mlen\u001b[0m\u001b[0;34m(\u001b[0m\u001b[0mself\u001b[0m\u001b[0;34m.\u001b[0m\u001b[0moutputs\u001b[0m\u001b[0;34m)\u001b[0m\u001b[0;34m]\u001b[0m\u001b[0;34m\u001b[0m\u001b[0m\n\u001b[1;32m   2695\u001b[0m \u001b[0;34m\u001b[0m\u001b[0m\n",
      "\u001b[0;32m~/anaconda3/envs/tensorflow/lib/python3.6/site-packages/tensorflow/python/client/session.py\u001b[0m in \u001b[0;36mrun\u001b[0;34m(self, fetches, feed_dict, options, run_metadata)\u001b[0m\n\u001b[1;32m    903\u001b[0m     \u001b[0;32mtry\u001b[0m\u001b[0;34m:\u001b[0m\u001b[0;34m\u001b[0m\u001b[0m\n\u001b[1;32m    904\u001b[0m       result = self._run(None, fetches, feed_dict, options_ptr,\n\u001b[0;32m--> 905\u001b[0;31m                          run_metadata_ptr)\n\u001b[0m\u001b[1;32m    906\u001b[0m       \u001b[0;32mif\u001b[0m \u001b[0mrun_metadata\u001b[0m\u001b[0;34m:\u001b[0m\u001b[0;34m\u001b[0m\u001b[0m\n\u001b[1;32m    907\u001b[0m         \u001b[0mproto_data\u001b[0m \u001b[0;34m=\u001b[0m \u001b[0mtf_session\u001b[0m\u001b[0;34m.\u001b[0m\u001b[0mTF_GetBuffer\u001b[0m\u001b[0;34m(\u001b[0m\u001b[0mrun_metadata_ptr\u001b[0m\u001b[0;34m)\u001b[0m\u001b[0;34m\u001b[0m\u001b[0m\n",
      "\u001b[0;32m~/anaconda3/envs/tensorflow/lib/python3.6/site-packages/tensorflow/python/client/session.py\u001b[0m in \u001b[0;36m_run\u001b[0;34m(self, handle, fetches, feed_dict, options, run_metadata)\u001b[0m\n\u001b[1;32m   1138\u001b[0m     \u001b[0;32mif\u001b[0m \u001b[0mfinal_fetches\u001b[0m \u001b[0;32mor\u001b[0m \u001b[0mfinal_targets\u001b[0m \u001b[0;32mor\u001b[0m \u001b[0;34m(\u001b[0m\u001b[0mhandle\u001b[0m \u001b[0;32mand\u001b[0m \u001b[0mfeed_dict_tensor\u001b[0m\u001b[0;34m)\u001b[0m\u001b[0;34m:\u001b[0m\u001b[0;34m\u001b[0m\u001b[0m\n\u001b[1;32m   1139\u001b[0m       results = self._do_run(handle, final_targets, final_fetches,\n\u001b[0;32m-> 1140\u001b[0;31m                              feed_dict_tensor, options, run_metadata)\n\u001b[0m\u001b[1;32m   1141\u001b[0m     \u001b[0;32melse\u001b[0m\u001b[0;34m:\u001b[0m\u001b[0;34m\u001b[0m\u001b[0m\n\u001b[1;32m   1142\u001b[0m       \u001b[0mresults\u001b[0m \u001b[0;34m=\u001b[0m \u001b[0;34m[\u001b[0m\u001b[0;34m]\u001b[0m\u001b[0;34m\u001b[0m\u001b[0m\n",
      "\u001b[0;32m~/anaconda3/envs/tensorflow/lib/python3.6/site-packages/tensorflow/python/client/session.py\u001b[0m in \u001b[0;36m_do_run\u001b[0;34m(self, handle, target_list, fetch_list, feed_dict, options, run_metadata)\u001b[0m\n\u001b[1;32m   1319\u001b[0m     \u001b[0;32mif\u001b[0m \u001b[0mhandle\u001b[0m \u001b[0;32mis\u001b[0m \u001b[0;32mNone\u001b[0m\u001b[0;34m:\u001b[0m\u001b[0;34m\u001b[0m\u001b[0m\n\u001b[1;32m   1320\u001b[0m       return self._do_call(_run_fn, feeds, fetches, targets, options,\n\u001b[0;32m-> 1321\u001b[0;31m                            run_metadata)\n\u001b[0m\u001b[1;32m   1322\u001b[0m     \u001b[0;32melse\u001b[0m\u001b[0;34m:\u001b[0m\u001b[0;34m\u001b[0m\u001b[0m\n\u001b[1;32m   1323\u001b[0m       \u001b[0;32mreturn\u001b[0m \u001b[0mself\u001b[0m\u001b[0;34m.\u001b[0m\u001b[0m_do_call\u001b[0m\u001b[0;34m(\u001b[0m\u001b[0m_prun_fn\u001b[0m\u001b[0;34m,\u001b[0m \u001b[0mhandle\u001b[0m\u001b[0;34m,\u001b[0m \u001b[0mfeeds\u001b[0m\u001b[0;34m,\u001b[0m \u001b[0mfetches\u001b[0m\u001b[0;34m)\u001b[0m\u001b[0;34m\u001b[0m\u001b[0m\n",
      "\u001b[0;32m~/anaconda3/envs/tensorflow/lib/python3.6/site-packages/tensorflow/python/client/session.py\u001b[0m in \u001b[0;36m_do_call\u001b[0;34m(self, fn, *args)\u001b[0m\n\u001b[1;32m   1338\u001b[0m         \u001b[0;32mexcept\u001b[0m \u001b[0mKeyError\u001b[0m\u001b[0;34m:\u001b[0m\u001b[0;34m\u001b[0m\u001b[0m\n\u001b[1;32m   1339\u001b[0m           \u001b[0;32mpass\u001b[0m\u001b[0;34m\u001b[0m\u001b[0m\n\u001b[0;32m-> 1340\u001b[0;31m       \u001b[0;32mraise\u001b[0m \u001b[0mtype\u001b[0m\u001b[0;34m(\u001b[0m\u001b[0me\u001b[0m\u001b[0;34m)\u001b[0m\u001b[0;34m(\u001b[0m\u001b[0mnode_def\u001b[0m\u001b[0;34m,\u001b[0m \u001b[0mop\u001b[0m\u001b[0;34m,\u001b[0m \u001b[0mmessage\u001b[0m\u001b[0;34m)\u001b[0m\u001b[0;34m\u001b[0m\u001b[0m\n\u001b[0m\u001b[1;32m   1341\u001b[0m \u001b[0;34m\u001b[0m\u001b[0m\n\u001b[1;32m   1342\u001b[0m   \u001b[0;32mdef\u001b[0m \u001b[0m_extend_graph\u001b[0m\u001b[0;34m(\u001b[0m\u001b[0mself\u001b[0m\u001b[0;34m)\u001b[0m\u001b[0;34m:\u001b[0m\u001b[0;34m\u001b[0m\u001b[0m\n",
      "\u001b[0;31mResourceExhaustedError\u001b[0m: OOM when allocating tensor with shape[16,512,512,3,32] and type float on /job:localhost/replica:0/task:0/device:GPU:0 by allocator GPU_0_bfc\n\t [[Node: UNet_EncoderLayer_0_BatchNorm/batchnorm/mul_1 = Mul[T=DT_FLOAT, _device=\"/job:localhost/replica:0/task:0/device:GPU:0\"](UNet_EncoderLayer_0_Activation/Relu, UNet_EncoderLayer_0_BatchNorm/batchnorm/mul)]]\nHint: If you want to see a list of allocated tensors when OOM happens, add report_tensor_allocations_upon_oom to RunOptions for current allocation info.\n\n\t [[Node: loss/mul/_685 = _Recv[client_terminated=false, recv_device=\"/job:localhost/replica:0/task:0/device:CPU:0\", send_device=\"/job:localhost/replica:0/task:0/device:GPU:0\", send_device_incarnation=1, tensor_name=\"edge_6792_loss/mul\", tensor_type=DT_FLOAT, _device=\"/job:localhost/replica:0/task:0/device:CPU:0\"]()]]\nHint: If you want to see a list of allocated tensors when OOM happens, add report_tensor_allocations_upon_oom to RunOptions for current allocation info.\n\n\nCaused by op 'UNet_EncoderLayer_0_BatchNorm/batchnorm/mul_1', defined at:\n  File \"/home/scmia/anaconda3/envs/tensorflow/lib/python3.6/runpy.py\", line 193, in _run_module_as_main\n    \"__main__\", mod_spec)\n  File \"/home/scmia/anaconda3/envs/tensorflow/lib/python3.6/runpy.py\", line 85, in _run_code\n    exec(code, run_globals)\n  File \"/home/scmia/.local/lib/python3.6/site-packages/ipykernel_launcher.py\", line 16, in <module>\n    app.launch_new_instance()\n  File \"/home/scmia/.local/lib/python3.6/site-packages/traitlets/config/application.py\", line 658, in launch_instance\n    app.start()\n  File \"/home/scmia/.local/lib/python3.6/site-packages/ipykernel/kernelapp.py\", line 486, in start\n    self.io_loop.start()\n  File \"/home/scmia/.local/lib/python3.6/site-packages/tornado/platform/asyncio.py\", line 127, in start\n    self.asyncio_loop.run_forever()\n  File \"/home/scmia/anaconda3/envs/tensorflow/lib/python3.6/asyncio/base_events.py\", line 422, in run_forever\n    self._run_once()\n  File \"/home/scmia/anaconda3/envs/tensorflow/lib/python3.6/asyncio/base_events.py\", line 1432, in _run_once\n    handle._run()\n  File \"/home/scmia/anaconda3/envs/tensorflow/lib/python3.6/asyncio/events.py\", line 145, in _run\n    self._callback(*self._args)\n  File \"/home/scmia/.local/lib/python3.6/site-packages/tornado/platform/asyncio.py\", line 117, in _handle_events\n    handler_func(fileobj, events)\n  File \"/home/scmia/.local/lib/python3.6/site-packages/tornado/stack_context.py\", line 276, in null_wrapper\n    return fn(*args, **kwargs)\n  File \"/home/scmia/.local/lib/python3.6/site-packages/zmq/eventloop/zmqstream.py\", line 450, in _handle_events\n    self._handle_recv()\n  File \"/home/scmia/.local/lib/python3.6/site-packages/zmq/eventloop/zmqstream.py\", line 480, in _handle_recv\n    self._run_callback(callback, msg)\n  File \"/home/scmia/.local/lib/python3.6/site-packages/zmq/eventloop/zmqstream.py\", line 432, in _run_callback\n    callback(*args, **kwargs)\n  File \"/home/scmia/.local/lib/python3.6/site-packages/tornado/stack_context.py\", line 276, in null_wrapper\n    return fn(*args, **kwargs)\n  File \"/home/scmia/.local/lib/python3.6/site-packages/ipykernel/kernelbase.py\", line 283, in dispatcher\n    return self.dispatch_shell(stream, msg)\n  File \"/home/scmia/.local/lib/python3.6/site-packages/ipykernel/kernelbase.py\", line 233, in dispatch_shell\n    handler(stream, idents, msg)\n  File \"/home/scmia/.local/lib/python3.6/site-packages/ipykernel/kernelbase.py\", line 399, in execute_request\n    user_expressions, allow_stdin)\n  File \"/home/scmia/.local/lib/python3.6/site-packages/ipykernel/ipkernel.py\", line 208, in do_execute\n    res = shell.run_cell(code, store_history=store_history, silent=silent)\n  File \"/home/scmia/.local/lib/python3.6/site-packages/ipykernel/zmqshell.py\", line 537, in run_cell\n    return super(ZMQInteractiveShell, self).run_cell(*args, **kwargs)\n  File \"/home/scmia/.local/lib/python3.6/site-packages/IPython/core/interactiveshell.py\", line 2662, in run_cell\n    raw_cell, store_history, silent, shell_futures)\n  File \"/home/scmia/.local/lib/python3.6/site-packages/IPython/core/interactiveshell.py\", line 2785, in _run_cell\n    interactivity=interactivity, compiler=compiler, result=result)\n  File \"/home/scmia/.local/lib/python3.6/site-packages/IPython/core/interactiveshell.py\", line 2903, in run_ast_nodes\n    if self.run_code(code, result):\n  File \"/home/scmia/.local/lib/python3.6/site-packages/IPython/core/interactiveshell.py\", line 2963, in run_code\n    exec(code_obj, self.user_global_ns, self.user_ns)\n  File \"<ipython-input-21-fffb21aa8aab>\", line 20, in <module>\n    final_activation='sigmoid')\n  File \"/home/scmia/Documents/SN/Auto_Segmentation/models_3d.py\", line 232, in unet\n    x = layers.BatchNormalization(name=name+'BatchNorm')(x)\n  File \"/home/scmia/anaconda3/envs/tensorflow/lib/python3.6/site-packages/keras/engine/base_layer.py\", line 457, in __call__\n    output = self.call(inputs, **kwargs)\n  File \"/home/scmia/anaconda3/envs/tensorflow/lib/python3.6/site-packages/keras/layers/normalization.py\", line 185, in call\n    epsilon=self.epsilon)\n  File \"/home/scmia/anaconda3/envs/tensorflow/lib/python3.6/site-packages/keras/backend/tensorflow_backend.py\", line 1869, in normalize_batch_in_training\n    epsilon=epsilon)\n  File \"/home/scmia/anaconda3/envs/tensorflow/lib/python3.6/site-packages/keras/backend/tensorflow_backend.py\", line 1753, in _regular_normalize_batch_in_training\n    epsilon)\n  File \"/home/scmia/anaconda3/envs/tensorflow/lib/python3.6/site-packages/tensorflow/python/ops/nn_impl.py\", line 833, in batch_normalization\n    return x * inv + (\n  File \"/home/scmia/anaconda3/envs/tensorflow/lib/python3.6/site-packages/tensorflow/python/ops/math_ops.py\", line 971, in binary_op_wrapper\n    return func(x, y, name=name)\n  File \"/home/scmia/anaconda3/envs/tensorflow/lib/python3.6/site-packages/tensorflow/python/ops/math_ops.py\", line 1198, in _mul_dispatch\n    return gen_math_ops.mul(x, y, name=name)\n  File \"/home/scmia/anaconda3/envs/tensorflow/lib/python3.6/site-packages/tensorflow/python/ops/gen_math_ops.py\", line 4689, in mul\n    \"Mul\", x=x, y=y, name=name)\n  File \"/home/scmia/anaconda3/envs/tensorflow/lib/python3.6/site-packages/tensorflow/python/framework/op_def_library.py\", line 787, in _apply_op_helper\n    op_def=op_def)\n  File \"/home/scmia/anaconda3/envs/tensorflow/lib/python3.6/site-packages/tensorflow/python/framework/ops.py\", line 3290, in create_op\n    op_def=op_def)\n  File \"/home/scmia/anaconda3/envs/tensorflow/lib/python3.6/site-packages/tensorflow/python/framework/ops.py\", line 1654, in __init__\n    self._traceback = self._graph._extract_stack()  # pylint: disable=protected-access\n\nResourceExhaustedError (see above for traceback): OOM when allocating tensor with shape[16,512,512,3,32] and type float on /job:localhost/replica:0/task:0/device:GPU:0 by allocator GPU_0_bfc\n\t [[Node: UNet_EncoderLayer_0_BatchNorm/batchnorm/mul_1 = Mul[T=DT_FLOAT, _device=\"/job:localhost/replica:0/task:0/device:GPU:0\"](UNet_EncoderLayer_0_Activation/Relu, UNet_EncoderLayer_0_BatchNorm/batchnorm/mul)]]\nHint: If you want to see a list of allocated tensors when OOM happens, add report_tensor_allocations_upon_oom to RunOptions for current allocation info.\n\n\t [[Node: loss/mul/_685 = _Recv[client_terminated=false, recv_device=\"/job:localhost/replica:0/task:0/device:CPU:0\", send_device=\"/job:localhost/replica:0/task:0/device:GPU:0\", send_device_incarnation=1, tensor_name=\"edge_6792_loss/mul\", tensor_type=DT_FLOAT, _device=\"/job:localhost/replica:0/task:0/device:CPU:0\"]()]]\nHint: If you want to see a list of allocated tensors when OOM happens, add report_tensor_allocations_upon_oom to RunOptions for current allocation info.\n\n"
     ]
    }
   ],
   "source": [
    "# %% Train model\n",
    "\n",
    "train_steps = len(train_datagen)\n",
    "val_steps = len(val_datagen)\n",
    "\n",
    "model.fit_generator(generator=train_datagen,\n",
    "                    steps_per_epoch=train_steps,\n",
    "                    epochs=100, callbacks=callbacks,\n",
    "                    validation_data=val_datagen,\n",
    "                    validation_steps=val_steps,\n",
    "                    workers=4,shuffle=False\n",
    "                    )"
   ]
  },
  {
   "cell_type": "code",
   "execution_count": null,
   "metadata": {
    "colab": {},
    "colab_type": "code",
    "id": "7QOtkHktQdfZ"
   },
   "outputs": [],
   "source": [
    "model.compile(optimizer='adam', loss='binary_crossentropy')\n",
    "model.save(model_path)\n",
    "model.compile(optimizer=adam, loss=loss_fn, metrics=['binary_crossentropy',dice_score])"
   ]
  },
  {
   "cell_type": "code",
   "execution_count": null,
   "metadata": {
    "colab": {},
    "colab_type": "code",
    "id": "kAzlyS8lQdfd"
   },
   "outputs": [],
   "source": [
    "X_test, Y_test = val_datagen.__getitem__(0)\n",
    "model.load_weights(wt_path)\n",
    "Y_pred = model.predict(X_test,verbose=1,batch_size=batch_size)"
   ]
  },
  {
   "cell_type": "code",
   "execution_count": null,
   "metadata": {
    "colab": {},
    "colab_type": "code",
    "id": "YhbQihsXQdff"
   },
   "outputs": [],
   "source": [
    "model.evaluate(X_test,Y_test)"
   ]
  },
  {
   "cell_type": "code",
   "execution_count": null,
   "metadata": {
    "colab": {},
    "colab_type": "code",
    "id": "lZbGjRJP1Adr"
   },
   "outputs": [],
   "source": [
    "smooth = 1e-12\n",
    "\n",
    "def np_dice_score(y_true, y_pred):    \n",
    "    y_true_f = np.reshape(y_true,-1)\n",
    "    y_pred_f = np.reshape(y_pred,-1)\n",
    "\n",
    "    intersection = np.sum(y_true_f * y_pred_f)\n",
    "    return (2. * intersection + smooth) / (np.sum(y_true_f) + np.sum(y_pred_f) + smooth)\n",
    "\n",
    "print(np_dice_score(Y_test,Y_pred))"
   ]
  },
  {
   "cell_type": "code",
   "execution_count": null,
   "metadata": {
    "colab": {},
    "colab_type": "code",
    "id": "FHXTKKbZQdfj",
    "scrolled": false
   },
   "outputs": [],
   "source": [
    "# %% Sanity Check inputs\n",
    "patch_n = 0\n",
    "slice_n = 0\n",
    "\n",
    "fg = []\n",
    "bg = []\n",
    "\n",
    "for p in range(0,Y_test.shape[0]):\n",
    "  for s in range(0,Y_test[p].shape[-2]):\n",
    "    if np.sum(Y_test[p,:,:,s,0])>50:\n",
    "      fg.append([p,s])\n",
    "    else:\n",
    "      bg.append([p,s])\n",
    "\n",
    "# patch_n, slice_n = bg[np.random.choice(np.arange(len(bg)))]\n",
    "patch_n, slice_n = fg[np.random.choice(np.arange(len(fg)))]\n",
    "\n",
    "\n",
    "print(patch_n, slice_n, np.sum(Y_test[patch_n,:,:,slice_n]))\n",
    "\n",
    "fig = plt.figure(figsize=(15,15))\n",
    "plt.subplot(1, 4, 1)\n",
    "plt.imshow(X_test[patch_n, :, :, slice_n,0], cmap='gray')\n",
    "plt.subplot(1, 4, 2)\n",
    "plt.imshow(Y_test[patch_n, :, :, slice_n,0], cmap='jet')\n",
    "plt.subplot(1, 4, 3)\n",
    "plt.imshow(Y_pred[patch_n, :, :, slice_n,0], cmap='jet')\n",
    "plt.subplot(1, 4, 4)\n",
    "plt.imshow(X_test[patch_n, :, :, slice_n,0], cmap='gray')\n",
    "plt.imshow(Y_pred[patch_n, :, :, slice_n,0], cmap='jet',alpha=0.3)"
   ]
  },
  {
   "cell_type": "code",
   "execution_count": null,
   "metadata": {
    "colab": {},
    "colab_type": "code",
    "id": "K4XlpARxQdfo"
   },
   "outputs": [],
   "source": []
  },
  {
   "cell_type": "code",
   "execution_count": null,
   "metadata": {
    "colab": {},
    "colab_type": "code",
    "id": "CknzHahuQdfr"
   },
   "outputs": [],
   "source": []
  },
  {
   "cell_type": "code",
   "execution_count": null,
   "metadata": {
    "colab": {},
    "colab_type": "code",
    "id": "Y7gUyF1FQdft"
   },
   "outputs": [],
   "source": []
  },
  {
   "cell_type": "code",
   "execution_count": null,
   "metadata": {
    "colab": {},
    "colab_type": "code",
    "id": "Rc2zifueQdfv"
   },
   "outputs": [],
   "source": []
  }
 ],
 "metadata": {
  "accelerator": "GPU",
  "colab": {
   "collapsed_sections": [],
   "name": "HC_Seg_2.ipynb",
   "provenance": [],
   "version": "0.3.2"
  },
  "kernelspec": {
   "display_name": "Python 3",
   "language": "python",
   "name": "python3"
  },
  "language_info": {
   "codemirror_mode": {
    "name": "ipython",
    "version": 3
   },
   "file_extension": ".py",
   "mimetype": "text/x-python",
   "name": "python",
   "nbconvert_exporter": "python",
   "pygments_lexer": "ipython3",
   "version": "3.6.5"
  }
 },
 "nbformat": 4,
 "nbformat_minor": 1
}
